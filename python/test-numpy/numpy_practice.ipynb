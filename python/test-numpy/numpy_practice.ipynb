{
 "cells": [
  {
   "cell_type": "code",
   "execution_count": 1,
   "metadata": {
    "collapsed": false
   },
   "outputs": [
    {
     "name": "stdout",
     "output_type": "stream",
     "text": [
      "[1 2 3]\n",
      "(1, (3,))\n",
      "[[1 2 3]]\n",
      "(2, (1, 3))\n",
      "[[1]\n",
      " [2]\n",
      " [3]]\n",
      "(2, (3, 1))\n"
     ]
    }
   ],
   "source": [
    "import numpy as np\n",
    "\n",
    "a1 = np.array([1, 2, 3])\n",
    "a2 = np.array([[1, 2, 3]])\n",
    "a3 = np.array([[1], [2], [3]])\n",
    "\n",
    "print(a1)\n",
    "print(a1.ndim, a1.shape)\n",
    "print(a2)\n",
    "print(a2.ndim, a2.shape)\n",
    "print(a3)\n",
    "print(a3.ndim, a3.shape)"
   ]
  },
  {
   "cell_type": "code",
   "execution_count": 3,
   "metadata": {
    "collapsed": false
   },
   "outputs": [
    {
     "name": "stdout",
     "output_type": "stream",
     "text": [
      "[[1 2 3 4]]\n",
      "[[1]\n",
      " [2]\n",
      " [3]\n",
      " [4]]\n",
      "[[30]]\n",
      "[[30]]\n",
      "[[ 1  4  9 16]]\n",
      "[1 2 3 4]\n",
      "[1 2 3 4]\n",
      "[ 1  4  9 16]\n",
      "30\n",
      "[ 1  4  9 16]\n"
     ]
    }
   ],
   "source": [
    "m1 = np.matrix([1, 2, 3, 4])\n",
    "\n",
    "print(m1)\n",
    "print(m1.T)\n",
    "print(m1 * m1.T)\n",
    "print(m1.dot(m1.T))\n",
    "print(np.multiply(m1, m1))\n",
    "\n",
    "a1 = np.array([1, 2, 3, 4])\n",
    "\n",
    "print(a1)\n",
    "print(a1.T)\n",
    "print(a1 * a1.T)\n",
    "print(a1.dot(a1.T))\n",
    "print(np.multiply(a1, a1))"
   ]
  },
  {
   "cell_type": "code",
   "execution_count": 4,
   "metadata": {
    "collapsed": false
   },
   "outputs": [
    {
     "name": "stdout",
     "output_type": "stream",
     "text": [
      "(10, <type 'int'>)\n",
      "([1, 2, 3], <type 'list'>)\n",
      "(array([[1, 2, 3],\n",
      "       [4, 5, 6]]), <type 'numpy.ndarray'>)\n"
     ]
    }
   ],
   "source": [
    "s, v, m = 10, [1, 2, 3], np.array([[1, 2, 3], [4, 5, 6]])\n",
    "print(s, type(s))\n",
    "print(v, type(v))\n",
    "print(m, type(m))"
   ]
  },
  {
   "cell_type": "code",
   "execution_count": 5,
   "metadata": {
    "collapsed": false
   },
   "outputs": [
    {
     "name": "stdout",
     "output_type": "stream",
     "text": [
      "2.2360679775\n",
      "2.2360679775\n"
     ]
    }
   ],
   "source": [
    "import math\n",
    "\n",
    "x = np.array([1, 2])\n",
    "mag = lambda x: math.sqrt(sum(i ** 2 for i in x))\n",
    "print(mag(x))\n",
    "print(np.linalg.norm(x))"
   ]
  },
  {
   "cell_type": "code",
   "execution_count": 2,
   "metadata": {
    "collapsed": false
   },
   "outputs": [
    {
     "name": "stdout",
     "output_type": "stream",
     "text": [
      "1.73205080757\n",
      "[0.5773502691896258, 0.5773502691896258, 0.5773502691896258]\n"
     ]
    }
   ],
   "source": [
    "import math\n",
    "\n",
    "def add(u, v):\n",
    "    return [u[i] + v[i] for i in range(len(u))]\n",
    "\n",
    "def magnitude(v):\n",
    "    return math.sqrt(sum(v[i] * v[i] for i in range(len(v))))\n",
    "\n",
    "def normalize(v):\n",
    "    vmag = magnitude(v)\n",
    "    return [v[i] / vmag for i in range(len(v))]\n",
    "\n",
    "l, v = [1, 1, 1], [0, 0, 0]\n",
    "h = normalize(add(l, v))\n",
    "print(magnitude(add(l, v)))\n",
    "print(h)"
   ]
  },
  {
   "cell_type": "code",
   "execution_count": 4,
   "metadata": {
    "collapsed": false
   },
   "outputs": [
    {
     "name": "stdout",
     "output_type": "stream",
     "text": [
      "[ 7 13]\n"
     ]
    }
   ],
   "source": [
    "import numpy as np\n",
    "d, e = np.array([4, 5]), np.array([3, 8])\n",
    "f = d + e\n",
    "print(f)"
   ]
  },
  {
   "cell_type": "code",
   "execution_count": 1,
   "metadata": {
    "collapsed": false
   },
   "outputs": [
    {
     "name": "stdout",
     "output_type": "stream",
     "text": [
      "[-1  1]\n"
     ]
    }
   ],
   "source": [
    "import math\n",
    "import numpy as np\n",
    "d, e = np.array([1, 2]), np.array([2, 1])\n",
    "g = d - e\n",
    "print(g)"
   ]
  },
  {
   "cell_type": "code",
   "execution_count": 2,
   "metadata": {
    "collapsed": false
   },
   "outputs": [
    {
     "name": "stdout",
     "output_type": "stream",
     "text": [
      "[3 6]\n"
     ]
    }
   ],
   "source": [
    "d = np.array([1, 2])\n",
    "i = 3 * d\n",
    "print(i)"
   ]
  },
  {
   "cell_type": "code",
   "execution_count": 3,
   "metadata": {
    "collapsed": false
   },
   "outputs": [
    {
     "name": "stdout",
     "output_type": "stream",
     "text": [
      "[12 40]\n",
      "52\n"
     ]
    }
   ],
   "source": [
    "d, e = np.array([4, 5]), np.array([3, 8])\n",
    "j = d * e\n",
    "print(j)\n",
    "print(np.dot(d, e))"
   ]
  },
  {
   "cell_type": "code",
   "execution_count": 4,
   "metadata": {
    "collapsed": false
   },
   "outputs": [
    {
     "name": "stdout",
     "output_type": "stream",
     "text": [
      "4\n",
      "4\n"
     ]
    }
   ],
   "source": [
    "va, vb, vc = np.array([[1, 0]]), np.array([[4, 1]]), np.array([[4], [1]])\n",
    "print(np.vdot(va, vb))\n",
    "print(np.vdot(va, vc))"
   ]
  },
  {
   "cell_type": "code",
   "execution_count": 5,
   "metadata": {
    "collapsed": false
   },
   "outputs": [
    {
     "name": "stdout",
     "output_type": "stream",
     "text": [
      "17\n",
      "[-22   4  17]\n"
     ]
    }
   ],
   "source": [
    "d, e = np.array([4, 5]), np.array([3, 8])\n",
    "print(np.cross(d, e))\n",
    "d, e = np.array([4, 5, 4]), np.array([3, 8, 2])\n",
    "print(np.cross(d, e))"
   ]
  },
  {
   "cell_type": "code",
   "execution_count": 6,
   "metadata": {
    "collapsed": false
   },
   "outputs": [
    {
     "name": "stdout",
     "output_type": "stream",
     "text": [
      "((1, 2), (1, 2))\n",
      "[[4]]\n",
      "((1, 3), (1, 3))\n",
      "[[13]]\n"
     ]
    }
   ],
   "source": [
    "a, b = np.array([[1, 0]]), np.array([[4, 1]])\n",
    "print(a.shape, b.shape)\n",
    "print(np.inner(a, b))\n",
    "a1, b1 = np.array([[1, 0, 3]]), np.array([[4, 1, 3]])\n",
    "print(a1.shape, b1.shape)\n",
    "print(np.inner(a1, b1))"
   ]
  },
  {
   "cell_type": "code",
   "execution_count": 8,
   "metadata": {
    "collapsed": false
   },
   "outputs": [
    {
     "name": "stdout",
     "output_type": "stream",
     "text": [
      "[[4]]\n",
      "[[4]]\n"
     ]
    }
   ],
   "source": [
    "va, vb, vc = np.array([[1, 0]]), np.array([[4, 1]]), np.array([[4], [1]])\n",
    "print(np.dot(va, vc))\n",
    "print(np.inner(va, vb))"
   ]
  },
  {
   "cell_type": "code",
   "execution_count": null,
   "metadata": {
    "collapsed": true
   },
   "outputs": [],
   "source": []
  }
 ],
 "metadata": {
  "kernelspec": {
   "display_name": "Python 2",
   "language": "python",
   "name": "python2"
  },
  "language_info": {
   "codemirror_mode": {
    "name": "ipython",
    "version": 2
   },
   "file_extension": ".py",
   "mimetype": "text/x-python",
   "name": "python",
   "nbconvert_exporter": "python",
   "pygments_lexer": "ipython2",
   "version": "2.7.11"
  }
 },
 "nbformat": 4,
 "nbformat_minor": 0
}
