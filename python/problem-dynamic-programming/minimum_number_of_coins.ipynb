{
 "cells": [
  {
   "cell_type": "markdown",
   "metadata": {},
   "source": [
    "# Minimum number of coins\n",
    "* [change making problem](https://www.youtube.com/watch?v=rdI94aW6IWw)\n",
    "* [find minimum number of coins](https://www.youtube.com/watch?v=F28xN-S1SmI)"
   ]
  },
  {
   "cell_type": "code",
   "execution_count": 24,
   "metadata": {},
   "outputs": [],
   "source": [
    "def changeMaking(coins, amount):\n",
    "    if coins is None or 0 == len(coins):\n",
    "        return 0, []\n",
    "    \n",
    "    amounts = [amount + 1] * (amount + 1)\n",
    "    last_coins = [0] * (amount + 1)\n",
    "    amounts[0] = 0\n",
    "    for i in range(amount + 1):\n",
    "        for c in coins:\n",
    "            if i < c:\n",
    "                continue\n",
    "            cand = amounts[i - c] + 1\n",
    "            if cand < amounts[i]:\n",
    "                amounts[i] = cand\n",
    "                last_coins[i] = c\n",
    "    if amount < amounts[-1]:\n",
    "        return -1, []\n",
    "    i, used_coins = len(amounts) - 1, []\n",
    "    while 0 < i:\n",
    "        used_coins.append(last_coins[i])\n",
    "        i -= last_coins[i]    \n",
    "    return amounts[-1], used_coins\n",
    "            "
   ]
  },
  {
   "cell_type": "code",
   "execution_count": 25,
   "metadata": {},
   "outputs": [
    {
     "name": "stdout",
     "output_type": "stream",
     "text": [
      "4 [1, 5, 5, 5]\n"
     ]
    }
   ],
   "source": [
    "num, used_coins = changeMaking([1, 5, 12, 25], 16)\n",
    "print(num, used_coins)"
   ]
  },
  {
   "cell_type": "code",
   "execution_count": null,
   "metadata": {},
   "outputs": [],
   "source": []
  }
 ],
 "metadata": {
  "kernelspec": {
   "display_name": "Python 3",
   "language": "python",
   "name": "python3"
  },
  "language_info": {
   "codemirror_mode": {
    "name": "ipython",
    "version": 3
   },
   "file_extension": ".py",
   "mimetype": "text/x-python",
   "name": "python",
   "nbconvert_exporter": "python",
   "pygments_lexer": "ipython3",
   "version": "3.6.3"
  }
 },
 "nbformat": 4,
 "nbformat_minor": 2
}
