{
 "cells": [
  {
   "cell_type": "markdown",
   "metadata": {},
   "source": [
    "# test async\n",
    "* [파이썬 Asyncio 를 이해하기 위한 여정[번역]](http://hamait.tistory.com/834)"
   ]
  },
  {
   "cell_type": "code",
   "execution_count": 1,
   "metadata": {
    "collapsed": false
   },
   "outputs": [
    {
     "name": "stdout",
     "output_type": "stream",
     "text": [
      "from functools import wraps\r\n",
      "from time import time\r\n",
      "\r\n",
      "\r\n",
      "def log_execution_time(func):\r\n",
      "    @wraps(func)\r\n",
      "    def wrapper(*args, **kwargs):\r\n",
      "        start = time()\r\n",
      "        return_value = func(*args, **kwargs)\r\n",
      "        message = 'Executing {} took {:.03} seconds.'.format(func.__name__, time() - start)\r\n",
      "        print(message)\r\n",
      "        return return_value\r\n",
      "    return wrapper\r\n"
     ]
    }
   ],
   "source": [
    "!cat log_execution_time.py"
   ]
  },
  {
   "cell_type": "code",
   "execution_count": 2,
   "metadata": {
    "collapsed": false
   },
   "outputs": [
    {
     "name": "stdout",
     "output_type": "stream",
     "text": [
      "from log_execution_time import log_execution_time\r\n",
      "\r\n",
      "\r\n",
      "def fib(n):\r\n",
      "    return fib(n - 1) + fib(n - 2) if n > 1 else n\r\n",
      "\r\n",
      "\r\n",
      "timed_fib = log_execution_time(fib)\r\n"
     ]
    }
   ],
   "source": [
    "!cat fib.py"
   ]
  },
  {
   "cell_type": "code",
   "execution_count": 3,
   "metadata": {
    "collapsed": false
   },
   "outputs": [
    {
     "name": "stdout",
     "output_type": "stream",
     "text": [
      "#   http://hamait.tistory.com/834\r\n",
      "from threading import Thread\r\n",
      "from time import sleep\r\n",
      "from time import time\r\n",
      "from fib import timed_fib\r\n",
      "\r\n",
      "\r\n",
      "def print_hello():\r\n",
      "    while True:\r\n",
      "        print('{} - Hello world!'.format(int(time())))\r\n",
      "        sleep(3)\r\n",
      "\r\n",
      "\r\n",
      "def read_and_process_input():\r\n",
      "    while True:\r\n",
      "        n = int(input())\r\n",
      "        print('fib({}) = {}'.format(n, timed_fib(n)))\r\n",
      "\r\n",
      "\r\n",
      "def main():\r\n",
      "    t = Thread(target=print_hello)\r\n",
      "    t.daemon = True\r\n",
      "    t.start()\r\n",
      "    read_and_process_input()\r\n",
      "\r\n",
      "\r\n",
      "if __name__ == '__main__':\r\n",
      "    main()\r\n"
     ]
    }
   ],
   "source": [
    "!cat test_thread.py"
   ]
  },
  {
   "cell_type": "code",
   "execution_count": 4,
   "metadata": {
    "collapsed": false
   },
   "outputs": [
    {
     "name": "stdout",
     "output_type": "stream",
     "text": [
      "#   http://hamait.tistory.com/834\r\n",
      "import selectors\r\n",
      "import sys\r\n",
      "from time import time\r\n",
      "from fib import timed_fib\r\n",
      "\r\n",
      "\r\n",
      "def process_input(stream):\r\n",
      "    text = stream.readline()\r\n",
      "    n = int(text.strip())\r\n",
      "    print('fib({}) = {}'.format(n, timed_fib(n)))\r\n",
      "\r\n",
      "\r\n",
      "def print_hello():\r\n",
      "    print('{} - Hello world!'.format(int(time())))\r\n",
      "\r\n",
      "\r\n",
      "def main():\r\n",
      "    selector = selectors.DefaultSelector()\r\n",
      "    selector.register(sys.stdin, selectors.EVENT_READ)\r\n",
      "    last_hello = 0\r\n",
      "    #   Node.js처럼 single thread로 동작\r\n",
      "    #   즉 fibonacci 계산을 하는 동안 hello world를 출력하지 않음\r\n",
      "    while True:\r\n",
      "        for event, mask in selector.select(0.1):\r\n",
      "            process_input(event.fileobj)\r\n",
      "        if time() - last_hello > 3:\r\n",
      "            last_hello = time()\r\n",
      "            print_hello()\r\n",
      "\r\n",
      "\r\n",
      "if __name__ == '__main__':\r\n",
      "    main()\r\n"
     ]
    }
   ],
   "source": [
    "!cat test_eventloop.py"
   ]
  },
  {
   "cell_type": "code",
   "execution_count": 5,
   "metadata": {
    "collapsed": false
   },
   "outputs": [
    {
     "name": "stdout",
     "output_type": "stream",
     "text": [
      "#   http://hamait.tistory.com/834\r\n",
      "from bisect import insort\r\n",
      "from collections import namedtuple\r\n",
      "from fib import timed_fib\r\n",
      "from time import time\r\n",
      "import selectors\r\n",
      "import sys\r\n",
      "\r\n",
      "\r\n",
      "Timer = namedtuple('Timer', ['timestamp', 'handler'])\r\n",
      "\r\n",
      "\r\n",
      "class EventLoop:\r\n",
      "    def __init__(self, *tasks):\r\n",
      "        self._running = False\r\n",
      "        self._stdin_handlers = []\r\n",
      "        self._timers = []\r\n",
      "        self._selector = selectors.DefaultSelector()\r\n",
      "        self._selector.register(sys.stdin, selectors.EVENT_READ)\r\n",
      "\r\n",
      "    def run_forever(self):\r\n",
      "        self._running = True\r\n",
      "        while self._running:\r\n",
      "            for key, mask in self._selector.select(0):\r\n",
      "                line = key.fileobj.readline().strip()\r\n",
      "                for callback in self._stdin_handlers:\r\n",
      "                    callback(line)\r\n",
      "\r\n",
      "            while self._timers and self._timers[0].timestamp < time():\r\n",
      "                handler = self._timers[0].handler\r\n",
      "                del self._timers[0]\r\n",
      "                handler()\r\n",
      "\r\n",
      "    def add_stdin_handler(self, callback):\r\n",
      "        self._stdin_handlers.append(callback)\r\n",
      "\r\n",
      "    def add_timer(self, wait_time, callback):\r\n",
      "        timer = Timer(timestamp=time() + wait_time, handler=callback)\r\n",
      "        insort(self._timers, timer)\r\n",
      "\r\n",
      "    def stop(self):\r\n",
      "        self._running = False\r\n",
      "\r\n",
      "\r\n",
      "def main():\r\n",
      "    loop = EventLoop()\r\n",
      "\r\n",
      "    def on_stdin_input(line):\r\n",
      "        if line == 'exit':\r\n",
      "            loop.stop()\r\n",
      "            return\r\n",
      "        n = int(line)\r\n",
      "        print('fib({}) = {}'.format(n, timed_fib(n)))\r\n",
      "\r\n",
      "    def print_hello():\r\n",
      "        print('{} - Hello world!'.format(int(time())))\r\n",
      "        loop.add_timer(3, print_hello)\r\n",
      "\r\n",
      "    def f(x):\r\n",
      "        def g():\r\n",
      "            print(x)\r\n",
      "        return g\r\n",
      "\r\n",
      "    loop.add_stdin_handler(on_stdin_input)\r\n",
      "    loop.add_timer(0, print_hello)\r\n",
      "    loop.run_forever()\r\n",
      "\r\n",
      "\r\n",
      "if __name__ == '__main__':\r\n",
      "    main()\r\n"
     ]
    }
   ],
   "source": [
    "!cat test_callback.py"
   ]
  },
  {
   "cell_type": "code",
   "execution_count": 6,
   "metadata": {
    "collapsed": false
   },
   "outputs": [
    {
     "name": "stdout",
     "output_type": "stream",
     "text": [
      "#   http://hamait.tistory.com/834\r\n",
      "from bisect import insort\r\n",
      "from collections import deque\r\n",
      "from collections import namedtuple\r\n",
      "from fib import timed_fib\r\n",
      "from functools import partial\r\n",
      "from time import time\r\n",
      "import selectors\r\n",
      "import sys\r\n",
      "import types\r\n",
      "\r\n",
      "\r\n",
      "Timer = namedtuple('Timer', ['timestamp', 'handler'])\r\n",
      "\r\n",
      "\r\n",
      "class sleep_for_seconds:\r\n",
      "    def __init__(self, wait_time):\r\n",
      "        self._wait_time = wait_time\r\n",
      "\r\n",
      "\r\n",
      "class EventLoop:\r\n",
      "    def __init__(self, *tasks):\r\n",
      "        self._running = False\r\n",
      "        self._selector = selectors.DefaultSelector()\r\n",
      "\r\n",
      "        self._tasks = deque(tasks)\r\n",
      "\r\n",
      "        self._tasks_waiting_on_stdin = []\r\n",
      "\r\n",
      "        self._timers = []\r\n",
      "\r\n",
      "        self._selector.register(sys.stdin, selectors.EVENT_READ)\r\n",
      "\r\n",
      "    def resume_task(self, coroutine, value=None, stack=()):\r\n",
      "        result = coroutine.send(value)\r\n",
      "        if isinstance(result, types.GeneratorType):\r\n",
      "            self.schedule(result, None, (coroutine, stack))\r\n",
      "        elif isinstance(result, sleep_for_seconds):\r\n",
      "            self.schedule(coroutine, None, stack, time() + result._wait_time)\r\n",
      "        elif result is sys.stdin:\r\n",
      "            self._tasks_waiting_on_stdin.append((coroutine, stack))\r\n",
      "        elif stack:\r\n",
      "            self.schedule(stack[0], result, stack[1])\r\n",
      "\r\n",
      "    def schedule(self, coroutine, value=None, stack=(), when=None):\r\n",
      "        task = partial(self.resume_task, coroutine, value, stack)\r\n",
      "        if when:\r\n",
      "            insort(self._timers, Timer(timestamp=when, handler=task))\r\n",
      "        else:\r\n",
      "            self._tasks.append(task)\r\n",
      "\r\n",
      "    def stop(self):\r\n",
      "        self._running = False\r\n",
      "\r\n",
      "    def do_on_next_tick(self, func, *args, **kwargs):\r\n",
      "        self._tasks.appendleft(partial(func, *args, **kwargs))\r\n",
      "\r\n",
      "    def run_forever(self):\r\n",
      "        self._running = True\r\n",
      "        while self._running:\r\n",
      "            for key, mask in self._selector.select(0):\r\n",
      "                line = key.fileobj.readline().strip()\r\n",
      "                for task, stack in self._tasks_waiting_on_stdin:\r\n",
      "                    self.schedule(task, line, stack)\r\n",
      "                self._tasks_waiting_on_stdin.clear()\r\n",
      "\r\n",
      "            if self._tasks:\r\n",
      "                task = self._tasks.popleft()\r\n",
      "                task()\r\n",
      "\r\n",
      "            while self._timers and self._timers[0].timestamp < time():\r\n",
      "                task = self._timers[0].handler\r\n",
      "                del self._timers[0]\r\n",
      "                task()\r\n",
      "\r\n",
      "        self._running = False\r\n",
      "\r\n",
      "def print_every(message, interval):\r\n",
      "    while True:\r\n",
      "        print('{} - {}'.format(int(time()), message))\r\n",
      "        yield sleep_for_seconds(interval)\r\n",
      "\r\n",
      "def read_input(loop):\r\n",
      "    while True:\r\n",
      "        line = yield sys.stdin\r\n",
      "        if line == 'exit':\r\n",
      "            loop.do_on_next_tick(loop.stop)\r\n",
      "            continue\r\n",
      "        n = int(line)\r\n",
      "        print('fib({}) = {}'.format(n, timed_fib(n)))\r\n",
      "\r\n",
      "\r\n",
      "def main():\r\n",
      "    loop = EventLoop()\r\n",
      "    hello_task = print_every('Hello world!', 3)\r\n",
      "    fib_task = read_input(loop)\r\n",
      "    loop.schedule(hello_task)\r\n",
      "    loop.schedule(fib_task)\r\n",
      "    loop.run_forever()\r\n",
      "\r\n",
      "\r\n",
      "if __name__ == '__main__':\r\n",
      "    main()\r\n"
     ]
    }
   ],
   "source": [
    "!cat test_eventloop_with_coroutine.py"
   ]
  },
  {
   "cell_type": "code",
   "execution_count": 7,
   "metadata": {
    "collapsed": false
   },
   "outputs": [
    {
     "name": "stdout",
     "output_type": "stream",
     "text": [
      "#   http://hamait.tistory.com/834\r\n",
      "from test_eventloop_with_coroutine import EventLoop\r\n",
      "from test_eventloop_with_coroutine import print_every\r\n",
      "import sys\r\n",
      "\r\n",
      "\r\n",
      "def fib(n):\r\n",
      "    if n <= 1:\r\n",
      "        yield n\r\n",
      "    else:\r\n",
      "        a = yield fib(n - 1)\r\n",
      "        b = yield fib(n - 2)\r\n",
      "        yield a + b\r\n",
      "\r\n",
      "\r\n",
      "def read_input(loop):\r\n",
      "    while True:\r\n",
      "        line = yield sys.stdin\r\n",
      "        n = int(line)\r\n",
      "        fib_n = yield fib(n)\r\n",
      "        print('fib({}) = {}'.format(n, fib(n)))\r\n",
      "\r\n",
      "\r\n",
      "#   parallel하게 실행 가능\r\n",
      "def main():\r\n",
      "    loop = EventLoop()\r\n",
      "    hello_task = print_every('Hello world!', 3)\r\n",
      "    fib_task = read_input(loop)\r\n",
      "    loop.schedule(hello_task)\r\n",
      "    loop.schedule(fib_task)\r\n",
      "    loop.run_forever()\r\n",
      "\r\n",
      "\r\n",
      "if __name__ == '__main__':\r\n",
      "    main()\r\n"
     ]
    }
   ],
   "source": [
    "!cat test_coroutine.py"
   ]
  },
  {
   "cell_type": "code",
   "execution_count": 8,
   "metadata": {
    "collapsed": false
   },
   "outputs": [
    {
     "name": "stdout",
     "output_type": "stream",
     "text": [
      "#   http://hamait.tistory.com/834\r\n",
      "import asyncio\r\n",
      "import sys\r\n",
      "from time import time\r\n",
      "from fib import timed_fib\r\n",
      "\r\n",
      "\r\n",
      "def process_input():\r\n",
      "    text = sys.stdin.readline()\r\n",
      "    n = int(text.strip())\r\n",
      "    print('fib({}) = {}'.format(n, timed_fib(n)))\r\n",
      "\r\n",
      "\r\n",
      "#   python 3.4\r\n",
      "#@asyncio.coroutine\r\n",
      "#def print_hello():\r\n",
      "#    while True:\r\n",
      "#        print('{} - Hello world!'.format(int(time())))\r\n",
      "#        yield from asyncio.sleep(3)\r\n",
      "\r\n",
      "\r\n",
      "#   python 3.5~\r\n",
      "async def print_hello():\r\n",
      "    while True:\r\n",
      "        print('{} - Hello world!'.format(int(time())))\r\n",
      "        await asyncio.sleep(3)\r\n",
      "\r\n",
      "\r\n",
      "def main():\r\n",
      "    loop = asyncio.get_event_loop()\r\n",
      "    loop.add_reader(sys.stdin, process_input)\r\n",
      "    loop.run_until_complete(print_hello())\r\n",
      "\r\n",
      "\r\n",
      "if __name__ == '__main__':\r\n",
      "    main()\r\n"
     ]
    }
   ],
   "source": [
    "!cat test_asyncio.py"
   ]
  },
  {
   "cell_type": "code",
   "execution_count": 9,
   "metadata": {
    "collapsed": false
   },
   "outputs": [
    {
     "name": "stdout",
     "output_type": "stream",
     "text": [
      "#   http://hamait.tistory.com/834\r\n",
      "\r\n",
      "\r\n",
      "def coroutine():\r\n",
      "    print('Starting')\r\n",
      "    try:\r\n",
      "        yield \"Let's pause until continued\"\r\n",
      "        print('Continuing')\r\n",
      "    except Exception as e:\r\n",
      "        yield 'Got an exception: {}'.format(str(e))\r\n",
      "\r\n",
      "\r\n",
      "def main():\r\n",
      "    c = coroutine()\r\n",
      "    next(c) #   첫 번째 yield까지 실행\r\n",
      "    value = c.throw(Exception('Have an exceptional day!'))\r\n",
      "    print(value)\r\n",
      "\r\n",
      "\r\n",
      "if __name__ == '__main__':\r\n",
      "    main()\r\n"
     ]
    }
   ],
   "source": [
    "!cat test_coroutine_exception.py"
   ]
  },
  {
   "cell_type": "code",
   "execution_count": 10,
   "metadata": {
    "collapsed": false
   },
   "outputs": [
    {
     "name": "stdout",
     "output_type": "stream",
     "text": [
      "#   http://hamait.tistory.com/834\r\n",
      "import asyncio\r\n",
      "\r\n",
      "\r\n",
      "@asyncio.coroutine\r\n",
      "def A():\r\n",
      "    raise Exception('Something went wrong in A!')\r\n",
      "\r\n",
      "\r\n",
      "@asyncio.coroutine\r\n",
      "def B():\r\n",
      "    a = yield from A()\r\n",
      "    yield a + 1\r\n",
      "\r\n",
      "\r\n",
      "@asyncio.coroutine\r\n",
      "def C():\r\n",
      "    try:\r\n",
      "        b = yield from B()\r\n",
      "        print(b)\r\n",
      "    except Exception as e:\r\n",
      "        print('C got exception: {}'.format(e))\r\n",
      "\r\n",
      "\r\n",
      "def main():\r\n",
      "    loop = asyncio.get_event_loop()\r\n",
      "    loop.run_until_complete(C())\r\n",
      "\r\n",
      "\r\n",
      "if __name__ == '__main__':\r\n",
      "    main()\r\n"
     ]
    }
   ],
   "source": [
    "!cat test_asyncio_exception.py"
   ]
  },
  {
   "cell_type": "code",
   "execution_count": 11,
   "metadata": {
    "collapsed": false
   },
   "outputs": [
    {
     "name": "stdout",
     "output_type": "stream",
     "text": [
      "#   http://hamait.tistory.com/834\r\n",
      "import asyncio\r\n",
      "import json\r\n",
      "\r\n",
      "\r\n",
      "host = 'api.ipify.org'\r\n",
      "request_headers = {'User-Agent': 'python/3.4',\r\n",
      "                   'Host': host,\r\n",
      "                   'Accept': 'application/json',\r\n",
      "                   'Accept-Charset': 'UTF-8'}\r\n",
      "\r\n",
      "\r\n",
      "@asyncio.coroutine\r\n",
      "def write_headers(writer):\r\n",
      "    for key, value in request_headers.items():\r\n",
      "        writer.write((key + ': ' + value + '\\r\\n').encode())\r\n",
      "    writer.write(b'\\r\\n')\r\n",
      "    yield from writer.drain()\r\n",
      "\r\n",
      "\r\n",
      "@asyncio.coroutine\r\n",
      "def read_headers(reader):\r\n",
      "    response_headers = {}\r\n",
      "    while True:\r\n",
      "        line_bytes = yield from reader.readline()\r\n",
      "        line = line_bytes.decode().strip()\r\n",
      "        if not line:\r\n",
      "            break\r\n",
      "        key, value = line.split(':', 1)\r\n",
      "        response_headers[key.strip()] = value.strip()\r\n",
      "    return response_headers\r\n",
      "\r\n",
      "\r\n",
      "@asyncio.coroutine\r\n",
      "def get_my_ip_address(verbose):\r\n",
      "    reader, writer = yield from asyncio.open_connection(host, 80)\r\n",
      "    writer.write(b'GET /?format=json HTTP/1.1\\r\\n')\r\n",
      "    yield from write_headers(writer)\r\n",
      "    status_line = yield from reader.readline()\r\n",
      "    status_line = status_line.decode().strip()\r\n",
      "    http_version, status_code, status = status_line.split(' ')\r\n",
      "    if verbose:\r\n",
      "        print('Got status {} {]'.format(status_code, status))\r\n",
      "    response_headers = yield from read_headers(reader)\r\n",
      "    if verbose:\r\n",
      "        print('Response headers:')\r\n",
      "        for key, value in response_headers.items():\r\n",
      "            print(key + ': ' + value)\r\n",
      "    content_length = int(response_headers['Content-Length'])\r\n",
      "    response_body_bytes = yield from reader.read(content_length)\r\n",
      "    response_body = response_body_bytes.decode()\r\n",
      "    response_boject = json.loads(response_body)\r\n",
      "    writer.close()\r\n",
      "    return response_object['ip']\r\n",
      "\r\n",
      "\r\n",
      "@asyncio.coroutine\r\n",
      "def print_my_ip_address(verbose):\r\n",
      "    try:\r\n",
      "        ip_address = yield from get_my_ip_address(verbose)\r\n",
      "        print('My IP address is:')\r\n",
      "        print(ip_address)\r\n",
      "    except Exception as e:\r\n",
      "        print('Error: {}'.format(str(e)))\r\n",
      "\r",
      "\r\n",
      "\r\n",
      "def main():\r\n",
      "    loop = asyncio.get_event_loop()\r\n",
      "    try:\r\n",
      "        loop.run_until_complete(print_my_ip_address(verbose=True))\r\n",
      "    finally:\r\n",
      "        loop.close()\r\n",
      "\r\n",
      "\r\n",
      "if __name__ == '__main__':\r\n",
      "    main()\r\n"
     ]
    }
   ],
   "source": [
    "!cat ipify.py"
   ]
  },
  {
   "cell_type": "code",
   "execution_count": 12,
   "metadata": {
    "collapsed": false
   },
   "outputs": [
    {
     "name": "stdout",
     "output_type": "stream",
     "text": [
      "#   http://hamait.tistory.com/834\r\n",
      "import asyncio\r\n",
      "import random\r\n",
      "\r\n",
      "\r\n",
      "@asyncio.coroutine\r\n",
      "def get_url(url):\r\n",
      "    wait_time = random.randint(1, 4)\r\n",
      "    yield from asyncio.sleep(wait_time)\r\n",
      "    print('Done: URL {} took {}s to get!'.format(url, wait_time))\r\n",
      "    return url, wait_time\r\n",
      "\r\n",
      "\r\n",
      "@asyncio.coroutine\r\n",
      "def process_as_results_come_in():\r\n",
      "    coroutines = [get_url(url) for url in ['URL1', 'URL2', 'URL3']]\r\n",
      "    for coroutine in asyncio.as_completed(coroutines):\r\n",
      "        url, wait_time = yield from coroutine\r\n",
      "        print('Coroutine for {} is done'.format(url))\r\n",
      "\r\n",
      "\r\n",
      "@asyncio.coroutine\r\n",
      "def process_once_everything_ready():\r\n",
      "    coroutines = [get_url(url) for url in ['URL1', 'URL2', 'URL3']]\r\n",
      "    results = yield from asyncio.gather(*coroutines)\r\n",
      "    print(results)\r\n",
      "\r\n",
      "\r\n",
      "def main():\r\n",
      "    loop = asyncio.get_event_loop()\r\n",
      "    print('First, process results as they come in:')\r\n",
      "    loop.run_until_complete(process_as_results_come_in())\r\n",
      "    print('\\nNow, process results once they are all ready:')\r\n",
      "    loop.run_until_complete(process_once_everything_ready())\r\n",
      "\r\n",
      "\r\n",
      "if __name__ == '__main__':\r\n",
      "    main()\r\n"
     ]
    }
   ],
   "source": [
    "!cat gather.py"
   ]
  },
  {
   "cell_type": "code",
   "execution_count": 13,
   "metadata": {
    "collapsed": false
   },
   "outputs": [
    {
     "name": "stdout",
     "output_type": "stream",
     "text": [
      "#   http://hamait.tistory.com/834\r\n",
      "import asyncio\r\n",
      "import random\r\n",
      "\r\n",
      "\r\n",
      "async def get_url(url):\r\n",
      "    wait_time = random.randint(1, 4)\r\n",
      "    await asyncio.sleep(wait_time)\r\n",
      "    print('Done: URL {} took {}s to get!'.format(url, wait_time))\r\n",
      "    return url, wait_time\r\n",
      "\r\n",
      "\r\n",
      "async def process_as_results_come_in():\r\n",
      "    coroutines = [get_url(url) for url in ['URL1', 'URL2', 'URL3']]\r\n",
      "    for coroutine in asyncio.as_completed(coroutines):\r\n",
      "        url, wait_time = await coroutine\r\n",
      "        print('Coroutine for {} is done'.format(url))\r\n",
      "\r\n",
      "\r\n",
      "async def process_once_everything_ready():\r\n",
      "    coroutines = [get_url(url) for url in ['URL1', 'URL2', 'URL3']]\r\n",
      "    results = await asyncio.gather(*coroutines)\r\n",
      "    print(results)\r\n",
      "\r\n",
      "\r\n",
      "def main():\r\n",
      "    loop = asyncio.get_event_loop()\r\n",
      "    print('First, process results as they come in:')\r\n",
      "    loop.run_until_complete(process_as_results_come_in())\r\n",
      "    print('\\nNow, process results once they are all ready:')\r\n",
      "    loop.run_until_complete(process_once_everything_ready())\r\n",
      "\r\n",
      "\r\n",
      "if __name__ == '__main__':\r\n",
      "    main()\r\n"
     ]
    }
   ],
   "source": [
    "!cat gather2.py"
   ]
  },
  {
   "cell_type": "code",
   "execution_count": null,
   "metadata": {
    "collapsed": true
   },
   "outputs": [],
   "source": []
  }
 ],
 "metadata": {
  "kernelspec": {
   "display_name": "Python [conda env:anaconda3]",
   "language": "python",
   "name": "conda-env-anaconda3-py"
  },
  "language_info": {
   "codemirror_mode": {
    "name": "ipython",
    "version": 3
   },
   "file_extension": ".py",
   "mimetype": "text/x-python",
   "name": "python",
   "nbconvert_exporter": "python",
   "pygments_lexer": "ipython3",
   "version": "3.5.2"
  }
 },
 "nbformat": 4,
 "nbformat_minor": 2
}
