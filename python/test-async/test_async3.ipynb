{
 "cells": [
  {
   "cell_type": "markdown",
   "metadata": {},
   "source": [
    "# test async\n",
    "* [gist from miguel grinberg](https://gist.github.com/miguelgrinberg/f15bc03471f610cfebeba62438435508)\n",
    "* Didn't test yet\n",
    "    * [gevent-greenlets.py](https://gist.github.com/miguelgrinberg/f15bc03471f610cfebeba62438435508#file-gevent-greenlets-py)\n",
    "    * [twisted-callbacks.py](https://gist.github.com/miguelgrinberg/f15bc03471f610cfebeba62438435508#file-twisted-callbacks-py)\n",
    "    * [twisted-coroutines.py](https://gist.github.com/miguelgrinberg/f15bc03471f610cfebeba62438435508#file-twisted-coroutines-py)"
   ]
  },
  {
   "cell_type": "code",
   "execution_count": 1,
   "metadata": {
    "collapsed": false
   },
   "outputs": [
    {
     "name": "stdout",
     "output_type": "stream",
     "text": [
      "Hello!\n"
     ]
    }
   ],
   "source": [
    "from time import sleep\n",
    "\n",
    "def hello():\n",
    "    sleep(3)\n",
    "    print('Hello!')\n",
    "\n",
    "if __name__ == '__main__':\n",
    "    hello()"
   ]
  },
  {
   "cell_type": "code",
   "execution_count": 2,
   "metadata": {
    "collapsed": false
   },
   "outputs": [
    {
     "name": "stdout",
     "output_type": "stream",
     "text": [
      "Hello!\n"
     ]
    }
   ],
   "source": [
    "import asyncio\n",
    "loop = asyncio.get_event_loop()\n",
    "\n",
    "async def hello():\n",
    "    await asyncio.sleep(3)\n",
    "    print('Hello!')\n",
    "\n",
    "if __name__ == '__main__':\n",
    "    loop.run_until_complete(hello())"
   ]
  },
  {
   "cell_type": "code",
   "execution_count": 3,
   "metadata": {
    "collapsed": false
   },
   "outputs": [
    {
     "name": "stdout",
     "output_type": "stream",
     "text": [
      "Hello!\n"
     ]
    }
   ],
   "source": [
    "import asyncio\n",
    "loop = asyncio.get_event_loop()\n",
    "\n",
    "def hello():\n",
    "    loop.call_later(3, print_hello)\n",
    "\n",
    "def print_hello():\n",
    "    print('Hello!')\n",
    "    loop.stop()\n",
    "\n",
    "if __name__ == '__main__':\n",
    "    loop.call_soon(hello)\n",
    "    loop.run_forever()"
   ]
  },
  {
   "cell_type": "code",
   "execution_count": 4,
   "metadata": {
    "collapsed": false
   },
   "outputs": [
    {
     "name": "stdout",
     "output_type": "stream",
     "text": [
      "Hello!\n"
     ]
    }
   ],
   "source": [
    "import asyncio\n",
    "loop = asyncio.get_event_loop()\n",
    "\n",
    "@asyncio.coroutine\n",
    "def hello():\n",
    "    yield from asyncio.sleep(3)\n",
    "    print('Hello!')\n",
    "    \n",
    "if __name__ == '__main__':\n",
    "    loop.run_until_complete(hello())"
   ]
  },
  {
   "cell_type": "markdown",
   "metadata": {},
   "source": [
    "* [coroutine displaying the current date](https://docs.python.org/3/library/asyncio-task.html#example-chain-coroutines)"
   ]
  },
  {
   "cell_type": "code",
   "execution_count": 5,
   "metadata": {
    "collapsed": false
   },
   "outputs": [
    {
     "name": "stdout",
     "output_type": "stream",
     "text": [
      "2018-01-31 10:45:27.117837\n",
      "2018-01-31 10:45:28.118560\n",
      "2018-01-31 10:45:29.119247\n",
      "2018-01-31 10:45:30.123722\n",
      "2018-01-31 10:45:31.127688\n"
     ]
    }
   ],
   "source": [
    "# %load coroutine_displaying_the_current_date.py\n",
    "import asyncio\n",
    "import datetime\n",
    "\n",
    "async def display_date(loop):\n",
    "    end_time = loop.time() + 5.0\n",
    "    while True:\n",
    "        print(datetime.datetime.now())\n",
    "        if (loop.time() + 1.0) >= end_time:\n",
    "            break\n",
    "        await asyncio.sleep(1)\n",
    "\n",
    "loop = asyncio.get_event_loop()\n",
    "loop.run_until_complete(display_date(loop))\n",
    "#loop.close() #  uncomment when running on terminal"
   ]
  },
  {
   "cell_type": "markdown",
   "metadata": {},
   "source": [
    "* [chaining coroutines](https://docs.python.org/3/library/asyncio-task.html#example-chain-coroutines)"
   ]
  },
  {
   "cell_type": "code",
   "execution_count": 6,
   "metadata": {
    "collapsed": false
   },
   "outputs": [
    {
     "name": "stdout",
     "output_type": "stream",
     "text": [
      "Compute 1 + 2\n",
      "1 + 2 = 3\n"
     ]
    }
   ],
   "source": [
    "import asyncio\n",
    "\n",
    "async def compute(x, y):\n",
    "    print('Compute {} + {}'.format(x, y))\n",
    "    await asyncio.sleep(1.0)\n",
    "    return x + y\n",
    "\n",
    "async def print_sum(x, y):\n",
    "    result = await compute(x, y)\n",
    "    print('{} + {} = {}'.format(x, y, result))\n",
    "    \n",
    "loop = asyncio.get_event_loop()\n",
    "loop.run_until_complete(print_sum(1, 2))\n",
    "#loop.close() #  uncomment when running on terminal"
   ]
  },
  {
   "cell_type": "markdown",
   "metadata": {},
   "source": [
    "* [future with run_until_complete()](https://docs.python.org/3/library/asyncio-task.html#example-future-with-run-until-complete)"
   ]
  },
  {
   "cell_type": "code",
   "execution_count": 7,
   "metadata": {
    "collapsed": false
   },
   "outputs": [
    {
     "name": "stdout",
     "output_type": "stream",
     "text": [
      "Future is done\n"
     ]
    }
   ],
   "source": [
    "# %load test_future_with_run_until_complete.py\n",
    "import asyncio\n",
    "\n",
    "async def slow_operation(future):\n",
    "    await asyncio.sleep(1)\n",
    "    future.set_result('Future is done')\n",
    "\n",
    "loop = asyncio.get_event_loop()\n",
    "future = asyncio.Future()\n",
    "asyncio.ensure_future(slow_operation(future))\n",
    "loop.run_until_complete(future)\n",
    "print(future.result())\n",
    "#loop.close() #  uncomment when running on terminal"
   ]
  },
  {
   "cell_type": "markdown",
   "metadata": {},
   "source": [
    "* [future with run_forever()](https://docs.python.org/3/library/asyncio-task.html#example-future-with-run-forever)"
   ]
  },
  {
   "cell_type": "code",
   "execution_count": 8,
   "metadata": {
    "collapsed": false
   },
   "outputs": [
    {
     "name": "stdout",
     "output_type": "stream",
     "text": [
      "Future is done\n"
     ]
    }
   ],
   "source": [
    "# %load test_future_with_run_forever.py\n",
    "import asyncio\n",
    "\n",
    "async def slow_operation(future):\n",
    "    await asyncio.sleep(1)\n",
    "    future.set_result('Future is done')\n",
    "\n",
    "def got_result(future):\n",
    "    print(future.result())\n",
    "    loop.stop()\n",
    "\n",
    "loop = asyncio.get_event_loop()\n",
    "future = asyncio.Future()\n",
    "asyncio.ensure_future(slow_operation(future))\n",
    "future.add_done_callback(got_result)\n",
    "try:\n",
    "    loop.run_forever()\n",
    "finally:\n",
    "    #loop.close() uncomment when running on terminal\n",
    "    pass\n"
   ]
  },
  {
   "cell_type": "markdown",
   "metadata": {},
   "source": [
    "* [parallel execution of tasks](https://docs.python.org/3/library/asyncio-task.html#example-parallel-execution-of-tasks)"
   ]
  },
  {
   "cell_type": "code",
   "execution_count": 9,
   "metadata": {
    "collapsed": false
   },
   "outputs": [
    {
     "name": "stdout",
     "output_type": "stream",
     "text": [
      "Task A: Compute factorial(2)...\n",
      "Task C: Compute factorial(2)...\n",
      "Task B: Compute factorial(2)...\n",
      "Task A: factorial(2) = 2\n",
      "Task C: Compute factorial(3)...\n",
      "Task B: Compute factorial(3)...\n",
      "Task C: Compute factorial(4)...\n",
      "Task B: factorial(3) = 6\n",
      "Task C: factorial(4) = 24\n"
     ]
    },
    {
     "data": {
      "text/plain": [
       "[None, None, None]"
      ]
     },
     "execution_count": 9,
     "metadata": {},
     "output_type": "execute_result"
    }
   ],
   "source": [
    "# %load test_parallel_execution_of_tasks.py\n",
    "import asyncio\n",
    "\n",
    "async def factorial(name, number):\n",
    "    f = 1\n",
    "    for i in range(2, number + 1):\n",
    "        print('Task {}: Compute factorial({})...'.format(name, i))\n",
    "        await asyncio.sleep(1)\n",
    "        f *= i\n",
    "    print('Task {}: factorial({}) = {}'.format(name, number, f))\n",
    "\n",
    "loop = asyncio.get_event_loop()\n",
    "loop.run_until_complete(asyncio.gather(\n",
    "    factorial('A', 2),\n",
    "    factorial('B', 3),\n",
    "    factorial('C', 4),\n",
    "))\n",
    "#loop.close() uncomment when running on terminal\n"
   ]
  },
  {
   "cell_type": "code",
   "execution_count": null,
   "metadata": {
    "collapsed": true
   },
   "outputs": [],
   "source": []
  }
 ],
 "metadata": {
  "kernelspec": {
   "display_name": "Python [conda env:anaconda3]",
   "language": "python",
   "name": "conda-env-anaconda3-py"
  },
  "language_info": {
   "codemirror_mode": {
    "name": "ipython",
    "version": 3
   },
   "file_extension": ".py",
   "mimetype": "text/x-python",
   "name": "python",
   "nbconvert_exporter": "python",
   "pygments_lexer": "ipython3",
   "version": "3.5.2"
  }
 },
 "nbformat": 4,
 "nbformat_minor": 2
}
