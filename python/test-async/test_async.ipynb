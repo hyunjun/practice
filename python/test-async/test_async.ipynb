{
 "cells": [
  {
   "cell_type": "markdown",
   "metadata": {},
   "source": [
    "# test asyncio\n",
    "\n",
    "* [Python tricks: Demystifying async, await, and asyncio](https://www.youtube.com/watch?v=tSLDcRkgTsY)\n",
    "  * [jupyter notebook](https://osf.io/w8u26/)"
   ]
  },
  {
   "cell_type": "code",
   "execution_count": 1,
   "metadata": {
    "collapsed": false
   },
   "outputs": [
    {
     "name": "stdout",
     "output_type": "stream",
     "text": [
      "Highest prime below 100000\n",
      "-> Highest prime below 100000 is 99991\n",
      "Highest prime below 10000\n",
      "-> Highest prime below 10000 is 9973\n",
      "Highest prime below 1000\n",
      "-> Highest prime below 1000 is 997\n"
     ]
    }
   ],
   "source": [
    "import time\n",
    "\n",
    "def is_prime(x):\n",
    "    return not any(x // i == x / i for i in range(x - 1, 1, -1))\n",
    "\n",
    "def highest_prime_below(x):\n",
    "    print('Highest prime below {}'.format(x))\n",
    "    for y in range(x - 1, 0, -1):\n",
    "        if is_prime(y):\n",
    "            print('-> Highest prime below {} is {}'.format(x, y))\n",
    "            return y\n",
    "        time.sleep(0.01)\n",
    "    return None\n",
    "\n",
    "def main():\n",
    "    highest_prime_below(100000)\n",
    "    highest_prime_below(10000)\n",
    "    highest_prime_below(1000)\n",
    "\n",
    "main()"
   ]
  },
  {
   "cell_type": "code",
   "execution_count": 2,
   "metadata": {
    "collapsed": false
   },
   "outputs": [
    {
     "data": {
      "text/plain": [
       "<coroutine object main at 0x1069bcba0>"
      ]
     },
     "execution_count": 2,
     "metadata": {},
     "output_type": "execute_result"
    }
   ],
   "source": [
    "import time\n",
    "\n",
    "def is_prime(x):\n",
    "    return not any(x // i == x / i for i in range(x - 1, 1, -1))\n",
    "\n",
    "def highest_prime_below(x):\n",
    "    print('Highest prime below {}'.format(x))\n",
    "    for y in range(x - 1, 0, -1):\n",
    "        if is_prime(y):\n",
    "            print('-> Highest prime below {} is {}'.format(x, y))\n",
    "            return y\n",
    "        time.sleep(0.01)\n",
    "    return None\n",
    "\n",
    "#  async function is coroutine\n",
    "async def main():\n",
    "    highest_prime_below(100000)\n",
    "    highest_prime_below(10000)\n",
    "    highest_prime_below(1000)\n",
    "\n",
    "main()"
   ]
  },
  {
   "cell_type": "code",
   "execution_count": 3,
   "metadata": {
    "collapsed": false
   },
   "outputs": [
    {
     "name": "stdout",
     "output_type": "stream",
     "text": [
      "Highest prime below 100000\n",
      "-> Highest prime below 100000 is 99991\n",
      "Highest prime below 10000\n",
      "-> Highest prime below 10000 is 9973\n",
      "Highest prime below 1000\n",
      "-> Highest prime below 1000 is 997\n"
     ]
    }
   ],
   "source": [
    "import time\n",
    "import asyncio\n",
    "\n",
    "def is_prime(x):\n",
    "    return not any(x // i == x / i for i in range(x - 1, 1, -1))\n",
    "\n",
    "def highest_prime_below(x):\n",
    "    print('Highest prime below {}'.format(x))\n",
    "    for y in range(x - 1, 0, -1):\n",
    "        if is_prime(y):\n",
    "            print('-> Highest prime below {} is {}'.format(x, y))\n",
    "            return y\n",
    "        time.sleep(0.01)\n",
    "    return None\n",
    "\n",
    "# works, however, synchronously\n",
    "async def main():\n",
    "    highest_prime_below(100000)\n",
    "    highest_prime_below(10000)\n",
    "    highest_prime_below(1000)\n",
    "\n",
    "loop = asyncio.get_event_loop()\n",
    "loop.run_until_complete(main())\n",
    "#loop.close()  # use in .py"
   ]
  },
  {
   "cell_type": "code",
   "execution_count": 4,
   "metadata": {
    "collapsed": false
   },
   "outputs": [
    {
     "name": "stderr",
     "output_type": "stream",
     "text": [
      "/Users/jun/programming/anaconda3/lib/python3.5/site-packages/ipykernel/__main__.py:18: RuntimeWarning: coroutine 'highest_prime_below' was never awaited\n",
      "/Users/jun/programming/anaconda3/lib/python3.5/site-packages/ipykernel/__main__.py:19: RuntimeWarning: coroutine 'highest_prime_below' was never awaited\n",
      "/Users/jun/programming/anaconda3/lib/python3.5/site-packages/ipykernel/__main__.py:20: RuntimeWarning: coroutine 'highest_prime_below' was never awaited\n"
     ]
    }
   ],
   "source": [
    "import time\n",
    "import asyncio\n",
    "\n",
    "def is_prime(x):\n",
    "    return not any(x // i == x / i for i in range(x - 1, 1, -1))\n",
    "\n",
    "# got warning\n",
    "async def highest_prime_below(x):\n",
    "    print('Highest prime below {}'.format(x))\n",
    "    for y in range(x - 1, 0, -1):\n",
    "        if is_prime(y):\n",
    "            print('-> Highest prime below {} is {}'.format(x, y))\n",
    "            return y\n",
    "        time.sleep(0.01)\n",
    "    return None\n",
    "\n",
    "async def main():\n",
    "    highest_prime_below(100000)\n",
    "    highest_prime_below(10000)\n",
    "    highest_prime_below(1000)\n",
    "\n",
    "loop = asyncio.get_event_loop()\n",
    "loop.run_until_complete(main())\n",
    "#loop.close()  # use in .py"
   ]
  },
  {
   "cell_type": "code",
   "execution_count": 5,
   "metadata": {
    "collapsed": false
   },
   "outputs": [
    {
     "name": "stdout",
     "output_type": "stream",
     "text": [
      "Highest prime below 100000\n",
      "-> Highest prime below 100000 is 99991\n",
      "Highest prime below 10000\n",
      "-> Highest prime below 10000 is 9973\n",
      "Highest prime below 1000\n",
      "-> Highest prime below 1000 is 997\n"
     ]
    }
   ],
   "source": [
    "import time\n",
    "import asyncio\n",
    "\n",
    "def is_prime(x):\n",
    "    return not any(x // i == x / i for i in range(x - 1, 1, -1))\n",
    "\n",
    "async def highest_prime_below(x):\n",
    "    print('Highest prime below {}'.format(x))\n",
    "    for y in range(x - 1, 0, -1):\n",
    "        if is_prime(y):\n",
    "            print('-> Highest prime below {} is {}'.format(x, y))\n",
    "            return y\n",
    "        time.sleep(0.01)\n",
    "    return None\n",
    "\n",
    "# works, however, synchronously because the program doesn't know where the asynchronous point is\n",
    "async def main():\n",
    "    await highest_prime_below(100000)\n",
    "    await highest_prime_below(10000)\n",
    "    await highest_prime_below(1000)\n",
    "\n",
    "loop = asyncio.get_event_loop()\n",
    "loop.run_until_complete(main())\n",
    "#loop.close()  # use in .py"
   ]
  },
  {
   "cell_type": "code",
   "execution_count": 6,
   "metadata": {
    "collapsed": false
   },
   "outputs": [
    {
     "name": "stdout",
     "output_type": "stream",
     "text": [
      "Highest prime below 10000\n",
      "-> Highest prime below 10000 is 9973\n",
      "Highest prime below 1000\n",
      "-> Highest prime below 1000 is 997\n",
      "Highest prime below 100000\n",
      "-> Highest prime below 100000 is 99991\n"
     ]
    }
   ],
   "source": [
    "import time\n",
    "import asyncio\n",
    "\n",
    "def is_prime(x):\n",
    "    return not any(x // i == x / i for i in range(x - 1, 1, -1))\n",
    "\n",
    "async def highest_prime_below(x):\n",
    "    print('Highest prime below {}'.format(x))\n",
    "    for y in range(x - 1, 0, -1):\n",
    "        if is_prime(y):\n",
    "            print('-> Highest prime below {} is {}'.format(x, y))\n",
    "            return y\n",
    "        time.sleep(0.01)\n",
    "    return None\n",
    "\n",
    "# works randomly, partly asynchronously\n",
    "async def main():\n",
    "    await asyncio.wait([\n",
    "        highest_prime_below(100000),\n",
    "        highest_prime_below(10000),\n",
    "        highest_prime_below(1000)\n",
    "    ])\n",
    "\n",
    "loop = asyncio.get_event_loop()\n",
    "loop.run_until_complete(main())\n",
    "#loop.close()  # use in .py"
   ]
  },
  {
   "cell_type": "code",
   "execution_count": 7,
   "metadata": {
    "collapsed": false
   },
   "outputs": [
    {
     "name": "stdout",
     "output_type": "stream",
     "text": [
      "Highest prime below 10000\n",
      "Highest prime below 100000\n",
      "Highest prime below 1000\n",
      "-> Highest prime below 1000 is 997\n",
      "-> Highest prime below 100000 is 99991\n",
      "-> Highest prime below 10000 is 9973\n"
     ]
    }
   ],
   "source": [
    "import time\n",
    "import asyncio\n",
    "\n",
    "def is_prime(x):\n",
    "    return not any(x // i == x / i for i in range(x - 1, 1, -1))\n",
    "\n",
    "async def highest_prime_below(x):\n",
    "    print('Highest prime below {}'.format(x))\n",
    "    for y in range(x - 1, 0, -1):\n",
    "        if is_prime(y):\n",
    "            print('-> Highest prime below {} is {}'.format(x, y))\n",
    "            return y\n",
    "        await asyncio.sleep(0.01)\n",
    "    return None\n",
    "\n",
    "# works asynchronously\n",
    "async def main():\n",
    "    await asyncio.wait([\n",
    "        highest_prime_below(100000),\n",
    "        highest_prime_below(10000),\n",
    "        highest_prime_below(1000)\n",
    "    ])\n",
    "\n",
    "loop = asyncio.get_event_loop()\n",
    "loop.run_until_complete(main())\n",
    "#loop.close()  # use in .py"
   ]
  },
  {
   "cell_type": "code",
   "execution_count": 8,
   "metadata": {
    "collapsed": false
   },
   "outputs": [
    {
     "name": "stdout",
     "output_type": "stream",
     "text": [
      "Highest prime below 100000\n",
      "Highest prime below 10000\n",
      "Highest prime below 1000\n",
      "-> Highest prime below 1000 is 997\n",
      "-> Highest prime below 100000 is 99991\n",
      "-> Highest prime below 10000 is 9973\n",
      "Took 524.57 ms\n"
     ]
    }
   ],
   "source": [
    "import time\n",
    "import asyncio\n",
    "\n",
    "def is_prime(x):\n",
    "    return not any(x // i == x / i for i in range(x - 1, 1, -1))\n",
    "\n",
    "async def highest_prime_below(x):\n",
    "    print('Highest prime below {}'.format(x))\n",
    "    for y in range(x - 1, 0, -1):\n",
    "        if is_prime(y):\n",
    "            print('-> Highest prime below {} is {}'.format(x, y))\n",
    "            return y\n",
    "        await asyncio.sleep(0.01)\n",
    "        #time.sleep(0.01)  # compare the total time\n",
    "    return None\n",
    "\n",
    "# works asynchronously\n",
    "async def main():\n",
    "    t0 = time.time()\n",
    "    await asyncio.wait([\n",
    "        highest_prime_below(100000),\n",
    "        highest_prime_below(10000),\n",
    "        highest_prime_below(1000)\n",
    "    ])\n",
    "    t1 = time.time()\n",
    "    print('Took {:.2f} ms'.format(1000 * (t1 - t0)))\n",
    "\n",
    "loop = asyncio.get_event_loop()\n",
    "loop.run_until_complete(main())\n",
    "#loop.close()  # use in .py"
   ]
  },
  {
   "cell_type": "code",
   "execution_count": null,
   "metadata": {
    "collapsed": true
   },
   "outputs": [],
   "source": []
  }
 ],
 "metadata": {
  "kernelspec": {
   "display_name": "Python [conda env:anaconda3]",
   "language": "python",
   "name": "conda-env-anaconda3-py"
  },
  "language_info": {
   "codemirror_mode": {
    "name": "ipython",
    "version": 3
   },
   "file_extension": ".py",
   "mimetype": "text/x-python",
   "name": "python",
   "nbconvert_exporter": "python",
   "pygments_lexer": "ipython3",
   "version": "3.5.2"
  }
 },
 "nbformat": 4,
 "nbformat_minor": 2
}
