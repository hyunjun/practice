{
 "cells": [
  {
   "cell_type": "markdown",
   "metadata": {},
   "source": [
    "# test async\n",
    "* [AsyncIO for the Working Python Developer](https://hackernoon.com/asyncio-for-the-working-python-developer-5c468e6e2e8e)\n",
    "* asyncio = event loop + coroutine + future\n",
    "  * [event loop](https://docs.python.org/dev/library/asyncio-eventloop.html)\n",
    "    * 서로 다른 task들의 실행을 관리 & 분배\n",
    "    * task들을 등록하고, task들 간의 제어 흐름을 분배하는 작업을 처리\n",
    "  * [coroutine](https://docs.python.org/3.5/library/asyncio-task.html#coroutines)\n",
    "    * 제너레이터와 유사한 특별한 함수\n",
    "    * await keyword로 제어 흐름을 다시 event loop로 돌려줌\n",
    "    * event loop를 통해 스케쥴되야 할 필요가 있으며, 이렇게 하기 위해 future의 일종인 task를 만듦\n",
    "  * [future](https://docs.python.org/3.5/library/asyncio-task.html#future)\n",
    "    * 실행이 될 수도, 안 될수도 있는 task의 결과를 표현하는 객체\n",
    "    * 결과가 예외일 수도 있다\n",
    "* [Rob Pike - ‘Concurrency Is Not Parallelism’](https://vimeo.com/49718712)\n",
    "  * task들을 concurrent한 subtask들로 분해해야지만 parallelism을 할 수 있게 한다.\n",
    "  * 이런 subtask들을 스케쥴링하는 일이 parallelism\n",
    "* asyncio는 coroutine으로 정의되는 subtask들을 통해 코드를 구성할 수 있게 함\n",
    "  * coroutine은 yield 지점을 포함하고 있는데, 다른 task들이 지연된다면 여기서 context switch가 발생할 수 있음\n",
    "  * asyncio의 context switch는 한 coroutine에서 다른 coroutine으로 제어 흐름을 yield하는 event loop로 표현함"
   ]
  },
  {
   "cell_type": "code",
   "execution_count": 1,
   "metadata": {
    "collapsed": false
   },
   "outputs": [
    {
     "name": "stdout",
     "output_type": "stream",
     "text": [
      "Running in foo\n",
      "Explicit context to bar\n",
      "Explicit context switch to foo again\n",
      "Implicit context switch back to bar\n"
     ]
    },
    {
     "data": {
      "text/plain": [
       "({<Task finished coro=<foo() done, defined at <ipython-input-1-ec8756bcd3df>:5> result=None>,\n",
       "  <Task finished coro=<bar() done, defined at <ipython-input-1-ec8756bcd3df>:11> result=None>},\n",
       " set())"
      ]
     },
     "execution_count": 1,
     "metadata": {},
     "output_type": "execute_result"
    }
   ],
   "source": [
    "# %load 1-sync-async-execution-asyncio-await.py\n",
    "import asyncio\n",
    "\n",
    "\n",
    "async def foo():\n",
    "    print('Running in foo')\n",
    "    await asyncio.sleep(0)\n",
    "    print('Explicit context switch to foo again')\n",
    "\n",
    "\n",
    "async def bar():\n",
    "    print('Explicit context to bar')\n",
    "    await asyncio.sleep(0)\n",
    "    print('Implicit context switch back to bar')\n",
    "\n",
    "\n",
    "ioloop = asyncio.get_event_loop()\n",
    "tasks = [ioloop.create_task(foo()), ioloop.create_task(bar())]\n",
    "wait_tasks = asyncio.wait(tasks)\n",
    "ioloop.run_until_complete(wait_tasks)\n",
    "#ioloop.close()\n"
   ]
  },
  {
   "cell_type": "markdown",
   "metadata": {},
   "source": [
    "* foo(), bar()\n",
    "  * coroutine. asyncio.sleep(0)을 사용해 non blocking으로 동작\n",
    "  * await을 통해 coroutine이 event loop에 제어를 다시 넘겨줌\n",
    "* create_task; coroutine은 다른 coroutine이나 task로 wrapped되어야 호출 가능\n",
    "* wait; 완료하기 위해 두 개의 coroutine을 하나로 만듦\n",
    "* run_until_complete; event loop를 이용해 스케쥴링\n",
    "* coroutine이 yield하고 event loop가 실행을 위해 스케쥴된 다음 task로 context switch\n",
    "  * foo -> bar -> foo -> bar"
   ]
  },
  {
   "cell_type": "code",
   "execution_count": 5,
   "metadata": {
    "collapsed": false
   },
   "outputs": [
    {
     "name": "stdout",
     "output_type": "stream",
     "text": [
      "gr1 started work: at 0.0 seconds\n",
      "gr2 started work: at 0.0 seconds\n",
      "Let's do some stuff while the coroutines are blocked, at 0.0 seconds\n",
      "Done!\n",
      "gr1 ended work: at 2.0 seconds\n",
      "gr2 Ended work: at 2.0 seconds\n"
     ]
    },
    {
     "data": {
      "text/plain": [
       "({<Task finished coro=<gr1() done, defined at <ipython-input-5-a05bff2337c6>:12> result=None>,\n",
       "  <Task finished coro=<gr2() done, defined at <ipython-input-5-a05bff2337c6>:19> result=None>,\n",
       "  <Task finished coro=<gr3() done, defined at <ipython-input-5-a05bff2337c6>:26> result=None>},\n",
       " set())"
      ]
     },
     "execution_count": 5,
     "metadata": {},
     "output_type": "execute_result"
    }
   ],
   "source": [
    "# %load 1b-cooperatively-scheduled-asyncio-await.py\n",
    "import time\n",
    "import asyncio\n",
    "\n",
    "start = time.time()\n",
    "\n",
    "\n",
    "def tic():\n",
    "    return 'at %1.1f seconds' % (time.time() - start)\n",
    "\n",
    "\n",
    "async def gr1():\n",
    "    # Busy waits for a second, but we don't want to stick around...\n",
    "    print('gr1 started work: {}'.format(tic()))\n",
    "    await asyncio.sleep(2)\n",
    "    print('gr1 ended work: {}'.format(tic()))\n",
    "\n",
    "\n",
    "async def gr2():\n",
    "    # Busy waits for a second, but we don't want to stick around...\n",
    "    print('gr2 started work: {}'.format(tic()))\n",
    "    await asyncio.sleep(2)\n",
    "    print('gr2 Ended work: {}'.format(tic()))\n",
    "\n",
    "\n",
    "async def gr3():\n",
    "    print(\"Let's do some stuff while the coroutines are blocked, {}\".format(tic()))\n",
    "    await asyncio.sleep(1)\n",
    "    print(\"Done!\")\n",
    "\n",
    "\n",
    "ioloop = asyncio.get_event_loop()\n",
    "tasks = [\n",
    "    ioloop.create_task(gr1()),\n",
    "    ioloop.create_task(gr2()),\n",
    "    ioloop.create_task(gr3())\n",
    "]\n",
    "ioloop.run_until_complete(asyncio.wait(tasks))\n",
    "#ioloop.close()\n"
   ]
  },
  {
   "cell_type": "markdown",
   "metadata": {},
   "source": [
    "* 2개의 blocking tasks, gr1 and gr2\n",
    "* 2개를 실행하는 동안 gr3 asynchronous하게 작업\n",
    "* 이벤트 루프는 싱글 스레드 코드가 concurrent하게 동작하는 실행을 관리하고 스케쥴\n",
    "  * gr1과 gr2가 block되는 동안 gr3가 제어 흐름을 가져감"
   ]
  },
  {
   "cell_type": "code",
   "execution_count": 7,
   "metadata": {
    "collapsed": false
   },
   "outputs": [
    {
     "name": "stdout",
     "output_type": "stream",
     "text": [
      "Synchronous:\n",
      "Task 1 done\n",
      "Task 2 done\n",
      "Task 3 done\n",
      "Task 4 done\n",
      "Task 5 done\n",
      "Task 6 done\n",
      "Task 7 done\n",
      "Task 8 done\n",
      "Task 9 done\n",
      "Asynchronous:\n",
      "Task 3 done\n",
      "Task 4 done\n",
      "Task 9 done\n",
      "Task 1 done\n",
      "Task 2 done\n",
      "Task 5 done\n",
      "Task 6 done\n",
      "Task 7 done\n",
      "Task 8 done\n"
     ]
    }
   ],
   "source": [
    "# %load 1c-determinism-sync-async-asyncio-await.py\n",
    "import random\n",
    "from time import sleep\n",
    "import asyncio\n",
    "\n",
    "\n",
    "def task(pid):\n",
    "    \"\"\"Synchronous non-deterministic task.\"\"\"\n",
    "    sleep(random.randint(0, 2) * 0.001)\n",
    "    print('Task %s done' % pid)\n",
    "\n",
    "\n",
    "async def task_coro(pid):\n",
    "    \"\"\"Coroutine non-deterministic task\"\"\"\n",
    "    await asyncio.sleep(random.randint(0, 2) * 0.001)\n",
    "    print('Task %s done' % pid)\n",
    "\n",
    "\n",
    "def synchronous():\n",
    "    for i in range(1, 10):\n",
    "        task(i)\n",
    "\n",
    "\n",
    "async def asynchronous():\n",
    "    tasks = [asyncio.ensure_future(task_coro(i)) for i in range(1, 10)]\n",
    "    await asyncio.wait(tasks)\n",
    "\n",
    "\n",
    "print('Synchronous:')\n",
    "synchronous()\n",
    "\n",
    "ioloop = asyncio.get_event_loop()\n",
    "print('Asynchronous:')\n",
    "ioloop.run_until_complete(asynchronous())\n",
    "#ioloop.close()\n"
   ]
  },
  {
   "cell_type": "markdown",
   "metadata": {},
   "source": [
    "* Synchronous\n",
    "  * 선형으로 생각하는데 익숙해짐\n",
    "  * 서로 다른 실행시간을 소모하는 연속된 task들이 있는 경우, 호출 순서대로 실행\n",
    "* Asynchronous\n",
    "  * concurrency를 사용할 때는 스케쥴된 순서가 아니라 다른 순서로 task를 종료\n",
    "  * `range(1, 10)`을 사용해 `synchronous()`와 동일한 순서로 스케쥴했지만 출력 결과는 완전히 다름\n",
    "  * standard library의 `asyncio`를 사용할 때, 나머지 대부분은 blocking 기능만 제공한다는 점이 현재 주요 단점\n",
    "    * 이 단점을 보완하기 위해 async 기능이 있는 여러가지 외부 library들을 사용(e.g. aiohttp)\n",
    "  * [concurrent.futures](https://docs.python.org/3/library/concurrent.futures.html#module-concurrent.futures)를 사용해 thread나 process에서 blocking task를 wrap하고 `asyncio`를 사용하는 Future를 return할 수 있음\n",
    "    * [github.com/yeraydiazdiaz/asyncio-ftwpd](https://github.com/yeraydiazdiaz/asyncio-ftwpd)"
   ]
  },
  {
   "cell_type": "code",
   "execution_count": 9,
   "metadata": {
    "collapsed": false
   },
   "outputs": [
    {
     "name": "stdout",
     "output_type": "stream",
     "text": [
      "Synchronous:\n",
      "Fetch sync process 1 started\n",
      "Process 1: Wed, 31 Jan 2018 04:45:26 GMT, took: 0.97 seconds\n",
      "Fetch sync process 2 started\n",
      "Process 2: Wed, 31 Jan 2018 04:45:27 GMT, took: 0.88 seconds\n",
      "Fetch sync process 3 started\n",
      "Process 3: Wed, 31 Jan 2018 04:45:28 GMT, took: 0.95 seconds\n",
      "Process took: 2.81 seconds\n",
      "Asynchronous:\n",
      "Fetch async process 1 started\n",
      "Fetch async process 2 started\n",
      "Fetch async process 3 started\n"
     ]
    },
    {
     "name": "stderr",
     "output_type": "stream",
     "text": [
      "Unclosed client session\n",
      "client_session: <aiohttp.client.ClientSession object at 0x106d962b0>\n",
      "Unclosed client session\n",
      "client_session: <aiohttp.client.ClientSession object at 0x10732e7f0>\n",
      "Unclosed client session\n",
      "client_session: <aiohttp.client.ClientSession object at 0x10732ee48>\n"
     ]
    },
    {
     "name": "stdout",
     "output_type": "stream",
     "text": [
      "Process 1: Wed, 31 Jan 2018 04:45:29 GMT, took: 0.83 seconds\n",
      "Process 2: Wed, 31 Jan 2018 04:45:29 GMT, took: 0.83 seconds\n",
      "Process 3: Wed, 31 Jan 2018 04:45:29 GMT, took: 0.84 seconds\n",
      "Process took: 0.86 seconds\n"
     ]
    }
   ],
   "source": [
    "# %load 1d-async-fetch-from-server-asyncio-await.py\n",
    "import time\n",
    "import urllib.request\n",
    "import asyncio\n",
    "import aiohttp\n",
    "\n",
    "URL = 'https://api.github.com/events'\n",
    "MAX_CLIENTS = 3\n",
    "\n",
    "\n",
    "def fetch_sync(pid):\n",
    "    print('Fetch sync process {} started'.format(pid))\n",
    "    start = time.time()\n",
    "    response = urllib.request.urlopen(URL)\n",
    "    datetime = response.getheader('Date')\n",
    "\n",
    "    print('Process {}: {}, took: {:.2f} seconds'.format(pid, datetime, time.time() - start))\n",
    "\n",
    "    return datetime\n",
    "\n",
    "\n",
    "async def fetch_async(pid):\n",
    "    print('Fetch async process {} started'.format(pid))\n",
    "    start = time.time()\n",
    "    response = await aiohttp.request('GET', URL)\n",
    "    datetime = response.headers.get('Date')\n",
    "\n",
    "    print('Process {}: {}, took: {:.2f} seconds'.format( pid, datetime, time.time() - start))\n",
    "\n",
    "    response.close()\n",
    "    return datetime\n",
    "\n",
    "\n",
    "def synchronous():\n",
    "    start = time.time()\n",
    "    for i in range(1, MAX_CLIENTS + 1):\n",
    "        fetch_sync(i)\n",
    "    print(\"Process took: {:.2f} seconds\".format(time.time() - start))\n",
    "\n",
    "\n",
    "async def asynchronous():\n",
    "    start = time.time()\n",
    "    tasks = [asyncio.ensure_future( fetch_async(i)) for i in range(1, MAX_CLIENTS + 1)]\n",
    "    await asyncio.wait(tasks)\n",
    "    print(\"Process took: {:.2f} seconds\".format(time.time() - start))\n",
    "\n",
    "\n",
    "print('Synchronous:')\n",
    "synchronous()\n",
    "\n",
    "print('Asynchronous:')\n",
    "ioloop = asyncio.get_event_loop()\n",
    "ioloop.run_until_complete(asynchronous())\n",
    "#ioloop.close()\n"
   ]
  },
  {
   "cell_type": "markdown",
   "metadata": {},
   "source": [
    "* 가장 흔한 blocking task는 HTTP 서비스에서 데이터를 가져오는 작업\n",
    "* [aiohttp](http://aiohttp.readthedocs.io/) library를 사용해 non-blocking HTTP 요청을 보내 github event API에서 Date response header만 가져오는 작업\n",
    "  * 모든 request를 *동시에* 서비스에 보냄\n",
    "  * 앞에서 이야기했듯이 각각의 request는 제어 흐름을 다음 request에 yield하고, 완료하면 return\n",
    "  * code는 synchronous 버전과 매우 유사함"
   ]
  },
  {
   "cell_type": "markdown",
   "metadata": {},
   "source": [
    "## Creating concurrency\n",
    "* 이제까지, 'task 집합을 만들고 모두 종료하기를 기다리는 coroutine'에서 결과를 만들고 가져오는 하나의 메소드를 사용\n",
    "* 다른 방식으로 실행하거나 결과를 가져오도록 coroutine을 스케쥴할 수도 있음"
   ]
  },
  {
   "cell_type": "code",
   "execution_count": 11,
   "metadata": {
    "collapsed": false
   },
   "outputs": [
    {
     "name": "stdout",
     "output_type": "stream",
     "text": [
      "Fetch async process 1 started, sleeping for 5 seconds\n",
      "Fetch async process 2 started, sleeping for 2 seconds\n",
      "Fetch async process 3 started, sleeping for 4 seconds\n"
     ]
    },
    {
     "name": "stderr",
     "output_type": "stream",
     "text": [
      "Unclosed client session\n",
      "client_session: <aiohttp.client.ClientSession object at 0x106d96208>\n"
     ]
    },
    {
     "name": "stdout",
     "output_type": "stream",
     "text": [
      ">> Process 2: Wed, 31 Jan 2018 05:32:03 GMT, took: 2.81 seconds\n"
     ]
    },
    {
     "name": "stderr",
     "output_type": "stream",
     "text": [
      "Unclosed client session\n",
      "client_session: <aiohttp.client.ClientSession object at 0x10710ea20>\n"
     ]
    },
    {
     "name": "stdout",
     "output_type": "stream",
     "text": [
      ">>>> Process 3: Wed, 31 Jan 2018 05:32:05 GMT, took: 4.99 seconds\n"
     ]
    },
    {
     "name": "stderr",
     "output_type": "stream",
     "text": [
      "Unclosed client session\n",
      "client_session: <aiohttp.client.ClientSession object at 0x10732e2e8>\n"
     ]
    },
    {
     "name": "stdout",
     "output_type": "stream",
     "text": [
      ">>>>>> Process 1: Wed, 31 Jan 2018 05:32:06 GMT, took: 5.80 seconds\n",
      "Process took: 5.81 seconds\n"
     ]
    }
   ],
   "source": [
    "# %load 2a-async-fetch-from-server-as-completed-asyncio-await.py\n",
    "import time\n",
    "import random\n",
    "import asyncio\n",
    "import aiohttp\n",
    "\n",
    "URL = 'https://api.github.com/events'\n",
    "MAX_CLIENTS = 3\n",
    "\n",
    "\n",
    "async def fetch_async(pid):\n",
    "    start = time.time()\n",
    "    sleepy_time = random.randint(2, 5)\n",
    "    print('Fetch async process {} started, sleeping for {} seconds'.format( pid, sleepy_time))\n",
    "\n",
    "    await asyncio.sleep(sleepy_time)\n",
    "\n",
    "    response = await aiohttp.request('GET', URL)\n",
    "    datetime = response.headers.get('Date')\n",
    "\n",
    "    response.close()\n",
    "    return 'Process {}: {}, took: {:.2f} seconds'.format( pid, datetime, time.time() - start)\n",
    "\n",
    "\n",
    "async def asynchronous():\n",
    "    start = time.time()\n",
    "    futures = [fetch_async(i) for i in range(1, MAX_CLIENTS + 1)]\n",
    "    for i, future in enumerate(asyncio.as_completed(futures)):\n",
    "        result = await future\n",
    "        print('{} {}'.format(\">>\" * (i + 1), result))\n",
    "\n",
    "    print(\"Process took: {:.2f} seconds\".format(time.time() - start))\n",
    "\n",
    "\n",
    "ioloop = asyncio.get_event_loop()\n",
    "ioloop.run_until_complete(asynchronous())\n",
    "#ioloop.close()\n"
   ]
  },
  {
   "cell_type": "markdown",
   "metadata": {},
   "source": [
    "* 앞선 예제와 유사하지만, HTTP GET 요청이 도착하는대로 결과를 처리할 필요가 있다고 가정한 시나리오\n",
    "* 모두 동시에 스케쥴, 결과는 요청이 도착한 순서대로. \n",
    "  * 앞의 예제와 다른 점은 *[as_completed](https://docs.python.org/dev/library/asyncio-task.html#asyncio.as_completed)*를 사용해 오는대로 completed future를 yield하는 iterator를 반환한 부분\n",
    "  * *as_completed*와 *wait*은 원래 [*concurrent.futures*](https://docs.python.org/dev/library/concurrent.futures.html#module-functions)에서 유래"
   ]
  },
  {
   "cell_type": "code",
   "execution_count": 13,
   "metadata": {
    "collapsed": false
   },
   "outputs": [
    {
     "name": "stdout",
     "output_type": "stream",
     "text": [
      "Fetching IP from ip-api\n",
      "Fetching IP from ipify\n"
     ]
    },
    {
     "name": "stderr",
     "output_type": "stream",
     "text": [
      "Unclosed client session\n",
      "client_session: <aiohttp.client.ClientSession object at 0x1072a4eb8>\n"
     ]
    },
    {
     "name": "stdout",
     "output_type": "stream",
     "text": [
      "ip-api finished with result: 211.56.96.151, took: 0.44 seconds\n"
     ]
    }
   ],
   "source": [
    "# %load 2b-fetch-first-ip-address-response-await.py\n",
    "from collections import namedtuple\n",
    "import time\n",
    "import asyncio\n",
    "from concurrent.futures import FIRST_COMPLETED\n",
    "import aiohttp\n",
    "\n",
    "Service = namedtuple('Service', ('name', 'url', 'ip_attr'))\n",
    "\n",
    "SERVICES = (\n",
    "    Service('ipify', 'https://api.ipify.org?format=json', 'ip'),\n",
    "    Service('ip-api', 'http://ip-api.com/json', 'query')\n",
    ")\n",
    "\n",
    "\n",
    "async def fetch_ip(service):\n",
    "    start = time.time()\n",
    "    print('Fetching IP from {}'.format(service.name))\n",
    "\n",
    "    response = await aiohttp.request('GET', service.url)\n",
    "    json_response = await response.json()\n",
    "    ip = json_response[service.ip_attr]\n",
    "\n",
    "    response.close()\n",
    "    return '{} finished with result: {}, took: {:.2f} seconds'.format( service.name, ip, time.time() - start)\n",
    "\n",
    "\n",
    "async def asynchronous():\n",
    "    futures = [fetch_ip(service) for service in SERVICES]\n",
    "    done, pending = await asyncio.wait(futures, return_when=FIRST_COMPLETED)\n",
    "\n",
    "    print(done.pop().result())\n",
    "\n",
    "\n",
    "ioloop = asyncio.get_event_loop()\n",
    "ioloop.run_until_complete(asynchronous())\n",
    "#ioloop.close()\n"
   ]
  },
  {
   "cell_type": "markdown",
   "metadata": {},
   "source": [
    "* IP address를 얻는 예제\n",
    "  * 실행할 때 접속 가능한지는 확신할 수 없음\n",
    "  * 하나씩 순서대로 점검하기를 원하지 않음\n",
    "  * concurrent하게 request를 보내고 응답하는 첫 번째만 사용하려고 함\n",
    "* [*wait*](https://docs.python.org/dev/library/asyncio-task.html#asyncio.wait)에 *return_when*이란 parameter가 있음\n",
    "  * 지금까지는 단지 task들을 parallelise하려고 했기 때문에 wait가 반환하는 게 뭔지 신경쓰지 않았음\n",
    "  * 이제부터 coroutine에서 결과를 가져오길 원하는데, future의 두 가지 집합, *done*과 *pending*을 사용할 수 있음\n",
    "* 두 개의 task를 스케쥴하지만 첫 번째를 완료하면 loop를 닫고 두 번째는 pending으로 내버려둠\n",
    "  * *Asyncio*는 그걸 버그로 가정하고 경고를 출력\n",
    "  * event loop가 pending future를 상관하지 않게 알려줘야 함\n",
    "\n",
    "## Future states\n",
    "* future를 종료하면, 결과 메소드가 future의 결과를 반환\n",
    "  * states\n",
    "    * Pending, Cancelled; *InvalidStateError*\n",
    "    * Cancelled; *CancelledError*\n",
    "    * Done; 결과가 반환하거나 예외를 일으켰다는 뜻\n",
    "  * *done*, *cancelled*; future가 해당 상태에 있는지 아닌지 boolean 반환\n",
    "    * 저자가 running이라는 함수도 있다고 썼는데, 정작 python document에는 running이라는 함수는 없음\n",
    "  * *cancel* 함수를 호출해 future를 취소할 수 있음\n",
    "* 추가로 하고 싶은 작업이 있는 경우, done state가 됐을 때 동작하는 callback을 붙일 수 있음\n",
    "* future의 결과나 예외를 수작업으로 정할 수 있는데, 보통 유닛 테스트 목적으로 사용함"
   ]
  },
  {
   "cell_type": "code",
   "execution_count": 15,
   "metadata": {
    "collapsed": false
   },
   "outputs": [
    {
     "name": "stderr",
     "output_type": "stream",
     "text": [
      "Task exception was never retrieved\n",
      "future: <Task finished coro=<fetch_ip() done, defined at <ipython-input-13-64bff668c2af>:16> exception=TimeoutError()>\n",
      "Traceback (most recent call last):\n",
      "  File \"/Users/jun/programming/anaconda3/lib/python3.5/asyncio/tasks.py\", line 241, in _step\n",
      "    result = coro.throw(exc)\n",
      "  File \"<ipython-input-13-64bff668c2af>\", line 20, in fetch_ip\n",
      "    response = await aiohttp.request('GET', service.url)\n",
      "  File \"/Users/jun/programming/anaconda3/lib/python3.5/site-packages/aiohttp/client.py\", line 732, in __await__\n",
      "    return (yield from self._coro)\n",
      "  File \"/Users/jun/programming/anaconda3/lib/python3.5/site-packages/aiohttp/client.py\", line 341, in _request\n",
      "    break\n",
      "  File \"/Users/jun/programming/anaconda3/lib/python3.5/site-packages/aiohttp/helpers.py\", line 727, in __exit__\n",
      "    raise asyncio.TimeoutError from None\n",
      "concurrent.futures._base.TimeoutError\n"
     ]
    },
    {
     "name": "stdout",
     "output_type": "stream",
     "text": [
      "Fetching IP from ipify\n",
      "Fetching IP from ip-api\n"
     ]
    },
    {
     "name": "stderr",
     "output_type": "stream",
     "text": [
      "Unclosed client session\n",
      "client_session: <aiohttp.client.ClientSession object at 0x106d89f60>\n"
     ]
    },
    {
     "name": "stdout",
     "output_type": "stream",
     "text": [
      "ip-api finished with result: 211.56.96.151, took: 0.45 seconds\n"
     ]
    }
   ],
   "source": [
    "# %load 2c-fetch-first-ip-address-response-no-warning-await.py\n",
    "from collections import namedtuple\n",
    "import time\n",
    "import asyncio\n",
    "from concurrent.futures import FIRST_COMPLETED\n",
    "import aiohttp\n",
    "\n",
    "Service = namedtuple('Service', ('name', 'url', 'ip_attr'))\n",
    "\n",
    "SERVICES = (\n",
    "    Service('ipify', 'https://api.ipify.org?format=json', 'ip'),\n",
    "    Service('ip-api', 'http://ip-api.com/json', 'query')\n",
    ")\n",
    "\n",
    "\n",
    "async def fetch_ip(service):\n",
    "    start = time.time()\n",
    "    print('Fetching IP from {}'.format(service.name))\n",
    "\n",
    "    response = await aiohttp.request('GET', service.url)\n",
    "    json_response = await response.json()\n",
    "    ip = json_response[service.ip_attr]\n",
    "\n",
    "    response.close()\n",
    "    return '{} finished with result: {}, took: {:.2f} seconds'.format( service.name, ip, time.time() - start)\n",
    "\n",
    "\n",
    "async def asynchronous():\n",
    "    futures = [fetch_ip(service) for service in SERVICES]\n",
    "    done, pending = await asyncio.wait(futures, return_when=FIRST_COMPLETED)\n",
    "\n",
    "    print(done.pop().result())\n",
    "\n",
    "    for future in pending:\n",
    "        future.cancel()\n",
    "\n",
    "\n",
    "ioloop = asyncio.get_event_loop()\n",
    "ioloop.run_until_complete(asynchronous())\n",
    "#ioloop.close()\n"
   ]
  },
  {
   "cell_type": "markdown",
   "metadata": {},
   "source": [
    "## Exception handling\n",
    "* *Asyncio*는 concurrent code를 관리가능하고 가독성이 좋게 만드는 게 전부여서, 예외를 다루는 것도 명확해진다"
   ]
  },
  {
   "cell_type": "code",
   "execution_count": 20,
   "metadata": {
    "collapsed": false
   },
   "outputs": [
    {
     "name": "stdout",
     "output_type": "stream",
     "text": [
      "Fetching IP from ip-api\n",
      "Fetching IP from ipify\n",
      "Fetching IP from broken\n",
      "ipify is unresponsive\n",
      "broken is unresponsive\n",
      "ip-api is unresponsive\n"
     ]
    },
    {
     "name": "stderr",
     "output_type": "stream",
     "text": [
      "Unclosed client session\n",
      "client_session: <aiohttp.client.ClientSession object at 0x109ee3c18>\n"
     ]
    },
    {
     "name": "stdout",
     "output_type": "stream",
     "text": [
      "ipify is unresponsive\n",
      "ip-api finished with result: 211.56.96.151, took: 0.25 seconds\n",
      "broken is unresponsive\n"
     ]
    }
   ],
   "source": [
    "# %load 3a-fetch-ip-addresses-fail-await.py\n",
    "from collections import namedtuple\n",
    "import time\n",
    "import asyncio\n",
    "import async_timeout\n",
    "import aiohttp\n",
    "\n",
    "Service = namedtuple('Service', ('name', 'url', 'ip_attr'))\n",
    "\n",
    "SERVICES = (\n",
    "    Service('ipify', 'https://api.ipify.org?format=json', 'ip'),\n",
    "    Service('ip-api', 'http://ip-api.com/json', 'query'),\n",
    "    Service('broken', 'http://no-way-this-is-going-to-work.com/json', 'ip')\n",
    ")\n",
    "\n",
    "\n",
    "async def fetch_ip(service):\n",
    "    start = time.time()\n",
    "    print('Fetching IP from {}'.format(service.name))\n",
    "\n",
    "    try:\n",
    "        with async_timeout.timeout(2):\n",
    "            response = await aiohttp.request('GET', service.url)\n",
    "    except:\n",
    "        return '{} is unresponsive'.format(service.name)\n",
    "\n",
    "    json_response = await response.json()\n",
    "    ip = json_response[service.ip_attr]\n",
    "\n",
    "    response.close()\n",
    "    return '{} finished with result: {}, took: {:.2f} seconds'.format(service.name, ip, time.time() - start)\n",
    "\n",
    "\n",
    "async def asynchronous():\n",
    "    futures = [fetch_ip(service) for service in SERVICES]\n",
    "    done, _ = await asyncio.wait(futures)\n",
    "\n",
    "    for future in done:\n",
    "        print(future.result())\n",
    "\n",
    "\n",
    "ioloop = asyncio.get_event_loop()\n",
    "ioloop.run_until_complete(asynchronous())\n",
    "#ioloop.close()"
   ]
  },
  {
   "cell_type": "markdown",
   "metadata": {},
   "source": [
    "* 단순하게 *try...except* 사용하는 경우\n",
    "* 원래대로 실행을 시켰더니 종료가 되지 않아 timeout을 넣어봄\n",
    "  * async_timeout 참고; [docs.aiohttp.org/en/stable/client.html](https://docs.aiohttp.org/en/stable/client.html)"
   ]
  },
  {
   "cell_type": "code",
   "execution_count": 26,
   "metadata": {
    "collapsed": false
   },
   "outputs": [
    {
     "name": "stdout",
     "output_type": "stream",
     "text": [
      "Fetching IP from broken\n",
      "Fetching IP from ipify\n",
      "Fetching IP from ip-api\n"
     ]
    },
    {
     "name": "stderr",
     "output_type": "stream",
     "text": [
      "Unclosed client session\n",
      "client_session: <aiohttp.client.ClientSession object at 0x10a22c0b8>\n"
     ]
    },
    {
     "name": "stdout",
     "output_type": "stream",
     "text": [
      "broken is unresponsive\n",
      "Unexpected error: Traceback (most recent call last):\n",
      "  File \"<ipython-input-26-586d7894abb1>\", line 42, in asynchronous\n",
      "    print(future.result())\n",
      "  File \"/Users/jun/programming/anaconda3/lib/python3.5/asyncio/futures.py\", line 274, in result\n",
      "    raise self._exception\n",
      "  File \"/Users/jun/programming/anaconda3/lib/python3.5/asyncio/tasks.py\", line 239, in _step\n",
      "    result = coro.send(None)\n",
      "  File \"<ipython-input-26-586d7894abb1>\", line 29, in fetch_ip\n",
      "    ip = json_response[service.ip_attr]\n",
      "KeyError: 'this-is-not-an-attr'\n",
      "\n",
      "ipify is unresponsive\n"
     ]
    }
   ],
   "source": [
    "# %load 3b-fetch-ip-addresses-future-exceptions-await.py\n",
    "from collections import namedtuple\n",
    "import time\n",
    "import asyncio\n",
    "import async_timeout\n",
    "import aiohttp\n",
    "import traceback\n",
    "\n",
    "Service = namedtuple('Service', ('name', 'url', 'ip_attr'))\n",
    "\n",
    "SERVICES = (\n",
    "    Service('ipify', 'https://api.ipify.org?format=json', 'ip'),\n",
    "    Service('ip-api', 'http://ip-api.com/json', 'this-is-not-an-attr'),\n",
    "    Service('broken', 'http://no-way-this-is-going-to-work.com/json', 'ip')\n",
    ")\n",
    "\n",
    "\n",
    "async def fetch_ip(service):\n",
    "    start = time.time()\n",
    "    print('Fetching IP from {}'.format(service.name))\n",
    "\n",
    "    try:\n",
    "        with async_timeout.timeout(5):\n",
    "            response = await aiohttp.request('GET', service.url)\n",
    "    except:\n",
    "        return '{} is unresponsive'.format(service.name)\n",
    "\n",
    "    json_response = await response.json()\n",
    "    ip = json_response[service.ip_attr]\n",
    "\n",
    "    response.close()\n",
    "    return '{} finished with result: {}, took: {:.2f} seconds'.format(\n",
    "        service.name, ip, time.time() - start)\n",
    "\n",
    "\n",
    "async def asynchronous():\n",
    "    futures = [fetch_ip(service) for service in SERVICES]\n",
    "    done, _ = await asyncio.wait(futures)\n",
    "\n",
    "    for future in done:\n",
    "        try:\n",
    "            print(future.result())\n",
    "        except:\n",
    "            print(\"Unexpected error: {}\".format(traceback.format_exc()))\n",
    "\n",
    "\n",
    "ioloop = asyncio.get_event_loop()\n",
    "ioloop.run_until_complete(asynchronous())\n",
    "#ioloop.close()"
   ]
  },
  {
   "cell_type": "markdown",
   "metadata": {},
   "source": [
    "* 예상치 못한 exeption을 future의 결과로 처리\n",
    "* ipify가 동작하지 않아 본문과는 다른 결과"
   ]
  },
  {
   "cell_type": "code",
   "execution_count": 28,
   "metadata": {
    "collapsed": false
   },
   "outputs": [
    {
     "name": "stdout",
     "output_type": "stream",
     "text": [
      "Fetching IP from ipify\n",
      "Fetching IP from ip-api\n",
      "Fetching IP from borken\n",
      "borken is unresponsive\n"
     ]
    },
    {
     "name": "stderr",
     "output_type": "stream",
     "text": [
      "Unclosed client session\n",
      "client_session: <aiohttp.client.ClientSession object at 0x10a2329b0>\n",
      "Task exception was never retrieved\n",
      "future: <Task finished coro=<fetch_ip() done, defined at <ipython-input-28-a38f2369c290>:17> exception=KeyError('this-is-not-an-attr',)>\n",
      "Traceback (most recent call last):\n",
      "  File \"/Users/jun/programming/anaconda3/lib/python3.5/asyncio/tasks.py\", line 239, in _step\n",
      "    result = coro.send(None)\n",
      "  File \"<ipython-input-28-a38f2369c290>\", line 28, in fetch_ip\n",
      "    ip = json_response[service.ip_attr]\n",
      "KeyError: 'this-is-not-an-attr'\n"
     ]
    },
    {
     "name": "stdout",
     "output_type": "stream",
     "text": [
      "ipify is unresponsive\n"
     ]
    }
   ],
   "source": [
    "# %load 3c-fetch-ip-addresses-ignore-exceptions-await.py\n",
    "from collections import namedtuple\n",
    "import time\n",
    "import asyncio\n",
    "import async_timeout\n",
    "import aiohttp\n",
    "\n",
    "Service = namedtuple('Service', ('name', 'url', 'ip_attr'))\n",
    "\n",
    "SERVICES = (\n",
    "    Service('ipify', 'https://api.ipify.org?format=json', 'ip'),\n",
    "    Service('ip-api', 'http://ip-api.com/json', 'this-is-not-an-attr'),\n",
    "    Service('borken', 'http://no-way-this-is-going-to-work.com/json', 'ip')\n",
    ")\n",
    "\n",
    "\n",
    "async def fetch_ip(service):\n",
    "    start = time.time()\n",
    "    print('Fetching IP from {}'.format(service.name))\n",
    "\n",
    "    try:\n",
    "        with async_timeout.timeout(1):\n",
    "            response = await aiohttp.request('GET', service.url)\n",
    "    except:\n",
    "        print('{} is unresponsive'.format(service.name))\n",
    "    else:\n",
    "        json_response = await response.json()\n",
    "        ip = json_response[service.ip_attr]\n",
    "\n",
    "        response.close()\n",
    "        print('{} finished with result: {}, took: {:.2f} seconds'.format(\n",
    "            service.name, ip, time.time() - start))\n",
    "\n",
    "\n",
    "async def asynchronous():\n",
    "    futures = [fetch_ip(service) for service in SERVICES]\n",
    "    await asyncio.wait(futures)  # intentionally ignore results\n",
    "\n",
    "\n",
    "ioloop = asyncio.get_event_loop()\n",
    "ioloop.run_until_complete(asynchronous())\n",
    "#ioloop.close()"
   ]
  },
  {
   "cell_type": "markdown",
   "metadata": {},
   "source": [
    "* task를 스케쥴링하고 완료를 기다리지 않는 건 버그로 간주\n",
    "* task를 스케쥴링하고 가능한 예외를 가져오지 않는 건 경고를 일으킴\n",
    "* terminal에서 실행해야 차이(앞의 예제에서 asyncio의 출력은 제외)를 볼 수 있음"
   ]
  },
  {
   "cell_type": "markdown",
   "metadata": {},
   "source": [
    "## Timeouts\n",
    "* non blocking 호출에 timeout을 주고, 그 다음에 response를 보냄\n",
    "* *wait*만 있으면 됨"
   ]
  },
  {
   "cell_type": "code",
   "execution_count": null,
   "metadata": {
    "collapsed": true
   },
   "outputs": [],
   "source": [
    "# %load 4a-timeout-with-wait-kwarg-await.py\n",
    "import time\n",
    "import random\n",
    "import asyncio\n",
    "import aiohttp\n",
    "import argparse\n",
    "from collections import namedtuple\n",
    "from concurrent.futures import FIRST_COMPLETED\n",
    "\n",
    "Service = namedtuple('Service', ('name', 'url', 'ip_attr'))\n",
    "\n",
    "SERVICES = (\n",
    "    Service('ipify', 'https://api.ipify.org?format=json', 'ip'),\n",
    "    Service('ip-api', 'http://ip-api.com/json', 'query'),\n",
    ")\n",
    "\n",
    "DEFAULT_TIMEOUT = 0.01\n",
    "\n",
    "\n",
    "async def fetch_ip(service):\n",
    "    start = time.time()\n",
    "    print('Fetching IP from {}'.format(service.name))\n",
    "\n",
    "    await asyncio.sleep(random.randint(1, 3) * 0.1)\n",
    "    try:\n",
    "        response = await aiohttp.request('GET', service.url)\n",
    "    except:\n",
    "        return '{} is unresponsive'.format(service.name)\n",
    "\n",
    "    json_response = await response.json()\n",
    "    ip = json_response[service.ip_attr]\n",
    "\n",
    "    response.close()\n",
    "    print('{} finished with result: {}, took: {:.2f} seconds'.format(\n",
    "        service.name, ip, time.time() - start))\n",
    "    return ip\n",
    "\n",
    "\n",
    "async def asynchronous(timeout):\n",
    "    response = {\n",
    "        \"message\": \"Result from asynchronous.\",\n",
    "        \"ip\": \"not available\"\n",
    "    }\n",
    "\n",
    "    futures = [fetch_ip(service) for service in SERVICES]\n",
    "    done, pending = await asyncio.wait(\n",
    "        futures, timeout=timeout, return_when=FIRST_COMPLETED)\n",
    "\n",
    "    for future in pending:\n",
    "        future.cancel()\n",
    "\n",
    "    for future in done:\n",
    "        response[\"ip\"] = future.result()\n",
    "\n",
    "    print(response)\n",
    "\n",
    "\n",
    "parser = argparse.ArgumentParser()\n",
    "parser.add_argument(\n",
    "    '-t', '--timeout',\n",
    "    help='Timeout to use, defaults to {}'.format(DEFAULT_TIMEOUT),\n",
    "    default=DEFAULT_TIMEOUT, type=float)\n",
    "args = parser.parse_args()\n",
    "\n",
    "print(\"Using a {} timeout\".format(args.timeout))\n",
    "ioloop = asyncio.get_event_loop()\n",
    "ioloop.run_until_complete(asynchronous(args.timeout))\n",
    "ioloop.close()"
   ]
  },
  {
   "cell_type": "markdown",
   "metadata": {},
   "source": [
    "* on terminal\n",
    "\n",
    "    ```\n",
    "    $ python3 4a-timeout-with-wait-kwarg-await.py\n",
    "    Using a 0.01 timeout\n",
    "    Fetching IP from ip-api\n",
    "    Fetching IP from ipify\n",
    "    {'message': 'Result from asynchronous.', 'ip': 'not available'}\n",
    "\n",
    "    $ python3 4a-timeout-with-wait-kwarg-await.py -t 5\n",
    "    Using a 5.0 timeout\n",
    "    Fetching IP from ip-api\n",
    "    Fetching IP from ipify\n",
    "    Unclosed client session\n",
    "    client_session: <aiohttp.client.ClientSession object at 0x109da5a20>\n",
    "    ip-api finished with result: 211.56.96.151, took: 0.63 seconds\n",
    "    {'message': 'Result from asynchronous.', 'ip': '211.56.96.151'}\n",
    "    ```\n",
    "* timeout argument는 *wait*에 사용"
   ]
  }
 ],
 "metadata": {
  "kernelspec": {
   "display_name": "Python [conda env:anaconda3]",
   "language": "python",
   "name": "conda-env-anaconda3-py"
  },
  "language_info": {
   "codemirror_mode": {
    "name": "ipython",
    "version": 3
   },
   "file_extension": ".py",
   "mimetype": "text/x-python",
   "name": "python",
   "nbconvert_exporter": "python",
   "pygments_lexer": "ipython3",
   "version": "3.5.2"
  }
 },
 "nbformat": 4,
 "nbformat_minor": 2
}
