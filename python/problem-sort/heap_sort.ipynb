{
 "cells": [
  {
   "cell_type": "markdown",
   "metadata": {},
   "source": [
    "# Heap sort\n",
    "* [Heap Sort | GeeksforGeeks](https://www.youtube.com/watch?v=MtQL_ll5KhQ)"
   ]
  },
  {
   "cell_type": "code",
   "execution_count": 8,
   "metadata": {},
   "outputs": [
    {
     "name": "stdout",
     "output_type": "stream",
     "text": [
      "[-1, 10, 5, 3, 1, 4]\n",
      "10 [-1, 4, 5, 3, 1]\n",
      "5 [-1, 1, 4, 3]\n",
      "4 [-1, 3, 1]\n",
      "3 [-1, 1]\n",
      "1 [-1]\n"
     ]
    }
   ],
   "source": [
    "def heapify(heap, new_item):\n",
    "    heap.append(new_item)\n",
    "    idx = len(heap) - 1\n",
    "    while 1 < idx:\n",
    "        if heap[idx // 2] < heap[idx]:\n",
    "            heap[idx // 2], heap[idx] = heap[idx], heap[idx // 2]\n",
    "            idx //= 2\n",
    "        else:\n",
    "            break\n",
    "\n",
    "\n",
    "def heapsort(heap):\n",
    "    while 1 < len(heap):\n",
    "        max_num = heap[1]\n",
    "        heap[1] = heap[len(heap) - 1]\n",
    "        heap.pop()\n",
    "        print(max_num, heap)\n",
    "        idx = 1\n",
    "        while idx < len(heap):\n",
    "            left_child_idx, right_child_idx = 2 * idx, 2 * idx + 1\n",
    "            swap_idx = -1\n",
    "            if right_child_idx < len(heap):\n",
    "                if heap[idx] < heap[left_child_idx] or heap[idx] < heap[right_child_idx]:\n",
    "                    if heap[left_child_idx] < heap[right_child_idx]:\n",
    "                        swap_idx = right_child_idx\n",
    "                    else:\n",
    "                        swap_idx = left_child_idx\n",
    "                elif heap[idx] < heap[left_child_idx]:\n",
    "                    swap_idx = left_child_idx\n",
    "                elif heap[idx] < heap[right_child_idx]:\n",
    "                    swap_idx = right_child_idx\n",
    "            elif left_child_idx < len(heap) and heap[idx] < heap[left_child_idx]:\n",
    "                swap_idx = left_child_idx\n",
    "            if -1 == swap_idx:\n",
    "                break\n",
    "            else:\n",
    "                heap[idx], heap[swap_idx] = heap[swap_idx], heap[idx]\n",
    "                idx = swap_idx\n",
    "\n",
    "\n",
    "heap = [-1]\n",
    "for n in [1, 5, 3, 4, 10]:\n",
    "    heapify(heap, n)\n",
    "print(heap)\n",
    "heapsort(heap)\n"
   ]
  },
  {
   "cell_type": "code",
   "execution_count": null,
   "metadata": {},
   "outputs": [],
   "source": [
    "    "
   ]
  }
 ],
 "metadata": {
  "kernelspec": {
   "display_name": "Python 3",
   "language": "python",
   "name": "python3"
  },
  "language_info": {
   "codemirror_mode": {
    "name": "ipython",
    "version": 3
   },
   "file_extension": ".py",
   "mimetype": "text/x-python",
   "name": "python",
   "nbconvert_exporter": "python",
   "pygments_lexer": "ipython3",
   "version": "3.6.3"
  }
 },
 "nbformat": 4,
 "nbformat_minor": 2
}
